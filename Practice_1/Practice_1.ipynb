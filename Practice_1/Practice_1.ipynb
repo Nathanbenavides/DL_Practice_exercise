{
 "cells": [
  {
   "cell_type": "markdown",
   "metadata": {
    "id": "nwuIBn9mpTqI"
   },
   "source": [
    "<!--\n",
    "SPDX-FileCopyrightText: Copyright (c) 2019-2024 Idiap Research Institute <contact@idiap.ch>\n",
    "SPDX-FileContributor: Alina Elena Baia <alina.baia.idiap.ch>\n",
    "SPDX-FileContributor: Darya Baranouskaya <darya.baranouskaya.idiap.ch>\n",
    "SPDX-FileContributor: Olena Hrynenko <olena.hrynenko.idiap.ch>\n",
    "-->\n",
    "\n",
    "# *Practice exercises after Lecture 1*\n",
    "This notebook contains the submission exercises with instructions and explanations.\n",
    "\n",
    "Work through the cells below in sequential order, executing each cell as you progress. Throughout the notebook, you will encounter instructions marked with the words \"TO DO\". Follow the instructions and write code to complete the tasks. Replace all  'raise NotImplementedError()' with your code. Along the way, you will also find questions. Try to reflect on the questions before/after running the code.\n"
   ]
  },
  {
   "cell_type": "markdown",
   "metadata": {},
   "source": [
    "This notebook was developped at the [Idiap Research Institute](https://www.idiap.ch) by [Alina Elena Baia](mailto:alina.baia.idiap.ch>), [Darya Baranouskaya](mailto:darya.baranouskaya.idiap.ch) and [Olena Hrynenko](mailto:olena.hrynenko.idiap.ch)"
   ]
  },
  {
   "cell_type": "markdown",
   "metadata": {},
   "source": [
    "To install the missing libraries you need to follow the guidelines:\n",
    "\n",
    "* Creating a new env: \n",
    "    * my_venvs_create [name_of_your_env]\n",
    "    * my_venvs_activate [name_of_your_env]\n",
    "    * my_kernels_create [name_of_your_env] \"[Name of your Kernel]\"\n",
    "\n",
    "* Installing packages: torchsummary, torch, torchvision, torchaudio: \n",
    "    * pip install torchsummary\n",
    "    * pip install torch torchvision torchaudio\n",
    "\n",
    "* Refresh noto\n",
    "\n",
    "* Go to you practice.ipynb notebook. Choose kernel from Menu -> Kernel -> Change Kernel -> [Name of your Kernel] \n",
    "\n",
    "* Restart kernel in Menu -> Kernel -> Restart kernel\n",
    "\n",
    "* If you want to deactivate the env:\n",
    "    * my_venvs_deactivate\n",
    "\n",
    "Noto environment and libraries tutorial: https://noto.epfl.ch/user-redirect/lab/tree/Documentation/11_Tutorial_Envs.ipynb"
   ]
  },
  {
   "cell_type": "markdown",
   "metadata": {},
   "source": [
    "For this lab you will need several files. Load next files to the same directory as current .ipynb notebook\n",
    "\n",
    "Required files are:\n",
    "\n",
    "    * student_exam_data.csv\n",
    "    * lab1_layer_weights.pth\n",
    "    * lab1_model_with_4_hidden_layers_weights.pth\n",
    "    * lab1_image.jpg\n",
    "    * lab1_audio.wav\n",
    "    * lab1_textdata_init.txt\n",
    "    * lab1_model_with_skip_connection_weights.pth\n",
    "    "
   ]
  },
  {
   "cell_type": "code",
   "execution_count": 1,
   "metadata": {
    "execution": {
     "iopub.execute_input": "2024-02-21T18:33:43.199527Z",
     "iopub.status.busy": "2024-02-21T18:33:43.197323Z",
     "iopub.status.idle": "2024-02-21T18:33:45.749913Z",
     "shell.execute_reply": "2024-02-21T18:33:45.749160Z",
     "shell.execute_reply.started": "2024-02-21T18:33:43.199418Z"
    },
    "id": "wPQ03phFc3tY",
    "tags": []
   },
   "outputs": [],
   "source": [
    "import pandas as pd\n",
    "import torch\n",
    "import numpy as np\n",
    "from torch import nn\n",
    "import os"
   ]
  },
  {
   "cell_type": "markdown",
   "metadata": {
    "id": "6ULRn7ySZuHS"
   },
   "source": [
    "### Neural network\n",
    "Building a simple neural network for a binary classification task.\n",
    "The classification task consists of predicting whether  a student will pass or fail an exam based on multiple attributes that apply to each student.\n"
   ]
  },
  {
   "cell_type": "markdown",
   "metadata": {
    "id": "IOGqKZor1GKT"
   },
   "source": [
    "##### 1.1 Read tabular data for a binary classification task."
   ]
  },
  {
   "cell_type": "markdown",
   "metadata": {
    "id": "H5KGLSCNzh4X"
   },
   "source": [
    "We are going to explore the basics of the neural-network contruction on the example of a tabular data. The data contains information about students passing of failing the exam, as well as the informatuon about Study Hours spend on preparation and Previous Exam Score. With neural network we are going to predict if the sudent is going to Pass(1) or Fail(0). The neural networks were pretrained on the train part of the data and now we are goint to test the predictions on a test set of 20 rows."
   ]
  },
  {
   "cell_type": "code",
   "execution_count": 2,
   "metadata": {
    "colab": {
     "base_uri": "https://localhost:8080/",
     "height": 793
    },
    "execution": {
     "iopub.execute_input": "2024-02-21T18:33:45.751911Z",
     "iopub.status.busy": "2024-02-21T18:33:45.751206Z",
     "iopub.status.idle": "2024-02-21T18:33:45.813341Z",
     "shell.execute_reply": "2024-02-21T18:33:45.811721Z",
     "shell.execute_reply.started": "2024-02-21T18:33:45.751882Z"
    },
    "id": "5WZOi5cDgzwu",
    "outputId": "4b1069b4-6f77-4152-8d6d-5681adac3b24",
    "tags": []
   },
   "outputs": [
    {
     "name": "stdout",
     "output_type": "stream",
     "text": [
      "torch.Size([20, 2]) torch.Size([20])\n",
      "tensor([[-0.4152,  0.7574],\n",
      "        [ 1.5139,  0.1897],\n",
      "        [ 0.7816, -0.6040],\n",
      "        [ 0.3352,  1.1624],\n",
      "        [-1.1469,  0.7103],\n",
      "        [-1.1470, -1.1186],\n",
      "        [-1.4748,  1.5026],\n",
      "        [ 1.2309,  1.1930],\n",
      "        [ 0.3434,  1.6388],\n",
      "        [ 0.7015,  0.8539],\n",
      "        [-1.6003,  0.4605],\n",
      "        [ 1.5782, -0.2232],\n",
      "        [ 1.1179,  1.5790],\n",
      "        [-0.9583,  1.3455],\n",
      "        [-1.0605, -1.5298],\n",
      "        [-1.0552, -1.5958],\n",
      "        [-0.6506, -0.3695],\n",
      "        [ 0.0877,  1.1510],\n",
      "        [-0.2230,  1.7701],\n",
      "        [-0.6942, -1.1613]]) tensor([0., 1., 0., 1., 0., 0., 0., 1., 1., 1., 0., 1., 1., 0., 0., 0., 0., 1.,\n",
      "        0., 0.])\n"
     ]
    },
    {
     "data": {
      "text/html": [
       "<div>\n",
       "<style scoped>\n",
       "    .dataframe tbody tr th:only-of-type {\n",
       "        vertical-align: middle;\n",
       "    }\n",
       "\n",
       "    .dataframe tbody tr th {\n",
       "        vertical-align: top;\n",
       "    }\n",
       "\n",
       "    .dataframe thead th {\n",
       "        text-align: right;\n",
       "    }\n",
       "</style>\n",
       "<table border=\"1\" class=\"dataframe\">\n",
       "  <thead>\n",
       "    <tr style=\"text-align: right;\">\n",
       "      <th></th>\n",
       "      <th>Study Hours</th>\n",
       "      <th>Previous Exam Score</th>\n",
       "      <th>Pass/Fail</th>\n",
       "    </tr>\n",
       "  </thead>\n",
       "  <tbody>\n",
       "    <tr>\n",
       "      <th>0</th>\n",
       "      <td>4.370861</td>\n",
       "      <td>81.889703</td>\n",
       "      <td>0</td>\n",
       "    </tr>\n",
       "    <tr>\n",
       "      <th>1</th>\n",
       "      <td>9.556429</td>\n",
       "      <td>72.165782</td>\n",
       "      <td>1</td>\n",
       "    </tr>\n",
       "    <tr>\n",
       "      <th>2</th>\n",
       "      <td>7.587945</td>\n",
       "      <td>58.571657</td>\n",
       "      <td>0</td>\n",
       "    </tr>\n",
       "    <tr>\n",
       "      <th>3</th>\n",
       "      <td>6.387926</td>\n",
       "      <td>88.827701</td>\n",
       "      <td>1</td>\n",
       "    </tr>\n",
       "    <tr>\n",
       "      <th>4</th>\n",
       "      <td>2.404168</td>\n",
       "      <td>81.083870</td>\n",
       "      <td>0</td>\n",
       "    </tr>\n",
       "    <tr>\n",
       "      <th>...</th>\n",
       "      <td>...</td>\n",
       "      <td>...</td>\n",
       "      <td>...</td>\n",
       "    </tr>\n",
       "    <tr>\n",
       "      <th>495</th>\n",
       "      <td>4.180170</td>\n",
       "      <td>45.494924</td>\n",
       "      <td>0</td>\n",
       "    </tr>\n",
       "    <tr>\n",
       "      <th>496</th>\n",
       "      <td>6.252905</td>\n",
       "      <td>95.038815</td>\n",
       "      <td>1</td>\n",
       "    </tr>\n",
       "    <tr>\n",
       "      <th>497</th>\n",
       "      <td>1.699612</td>\n",
       "      <td>48.209118</td>\n",
       "      <td>0</td>\n",
       "    </tr>\n",
       "    <tr>\n",
       "      <th>498</th>\n",
       "      <td>9.769553</td>\n",
       "      <td>97.014241</td>\n",
       "      <td>1</td>\n",
       "    </tr>\n",
       "    <tr>\n",
       "      <th>499</th>\n",
       "      <td>9.875897</td>\n",
       "      <td>66.760346</td>\n",
       "      <td>1</td>\n",
       "    </tr>\n",
       "  </tbody>\n",
       "</table>\n",
       "<p>500 rows × 3 columns</p>\n",
       "</div>"
      ],
      "text/plain": [
       "     Study Hours  Previous Exam Score  Pass/Fail\n",
       "0       4.370861            81.889703          0\n",
       "1       9.556429            72.165782          1\n",
       "2       7.587945            58.571657          0\n",
       "3       6.387926            88.827701          1\n",
       "4       2.404168            81.083870          0\n",
       "..           ...                  ...        ...\n",
       "495     4.180170            45.494924          0\n",
       "496     6.252905            95.038815          1\n",
       "497     1.699612            48.209118          0\n",
       "498     9.769553            97.014241          1\n",
       "499     9.875897            66.760346          1\n",
       "\n",
       "[500 rows x 3 columns]"
      ]
     },
     "execution_count": 2,
     "metadata": {},
     "output_type": "execute_result"
    }
   ],
   "source": [
    "## NOTE: make sure to upload the csv file into the colab session\n",
    "# read and prepare the data\n",
    "# we read the tabular data with pandas library and save it in a Dataframe\n",
    "\n",
    "data = pd.read_csv('student_exam_data.csv')\n",
    "x = torch.Tensor(data.iloc[:20, :2].to_numpy())\n",
    "x_mean = torch.Tensor([5.487, 68.917])\n",
    "x_std = torch.Tensor([2.688, 17.129])\n",
    "x = (x - x_mean) /  x_std # Data normalisation, mean and std taken from training\n",
    "y = torch.Tensor(data.iloc[:20, 2].to_numpy())\n",
    "\n",
    "# printing the shape of the data\n",
    "print(x.shape, y.shape)\n",
    "print(x, y)\n",
    "# print the dataframe content\n",
    "data"
   ]
  },
  {
   "cell_type": "markdown",
   "metadata": {
    "id": "2Lhr4o-K2bBP"
   },
   "source": [
    "##### 1.2 Implement a network and make predictions from logits.\n"
   ]
  },
  {
   "cell_type": "code",
   "execution_count": 3,
   "metadata": {
    "colab": {
     "base_uri": "https://localhost:8080/"
    },
    "execution": {
     "iopub.execute_input": "2024-02-21T18:33:45.815294Z",
     "iopub.status.busy": "2024-02-21T18:33:45.814851Z",
     "iopub.status.idle": "2024-02-21T18:33:45.836423Z",
     "shell.execute_reply": "2024-02-21T18:33:45.835242Z",
     "shell.execute_reply.started": "2024-02-21T18:33:45.815251Z"
    },
    "id": "9tT2xgbZZuHU",
    "outputId": "874ed697-6c08-40c1-d9ee-2dc863fc8ffe",
    "tags": []
   },
   "outputs": [
    {
     "data": {
      "text/plain": [
       "(torch.Size([20, 2]),\n",
       " tensor([[ 0.2977, -0.5661],\n",
       "         [-2.2079,  1.2473],\n",
       "         [-0.1362, -0.8446],\n",
       "         [-1.3719,  1.0097],\n",
       "         [ 1.5393, -1.6187],\n",
       "         [ 3.5703, -4.1624],\n",
       "         [ 1.1925, -0.9592],\n",
       "         [-2.8619,  2.2608],\n",
       "         [-1.9143,  1.6834],\n",
       "         [-1.6248,  1.0749],\n",
       "         [ 2.5538, -2.5780],\n",
       "         [-1.8540,  0.7599],\n",
       "         [-3.1069,  2.6453],\n",
       "         [ 0.5274, -0.4809],\n",
       "         [ 3.8864, -4.6176],\n",
       "         [ 3.9511, -4.7023],\n",
       "         [ 1.9316, -2.4509],\n",
       "         [-0.9571,  0.6601],\n",
       "         [-1.1393,  1.1017],\n",
       "         [ 2.8817, -3.6109]], grad_fn=<AddmmBackward0>))"
      ]
     },
     "execution_count": 3,
     "metadata": {},
     "output_type": "execute_result"
    }
   ],
   "source": [
    "#one layer is already a model\n",
    "#first we need to initialise the element of class Linear\n",
    "number_of_input_channels = 2 # 'Study Hours' and 'Previous Exam Score'\n",
    "number_of_classes = 2 # 'Pass' and 'Fail'\n",
    "layer = nn.Linear(in_features=number_of_input_channels, out_features=number_of_classes)\n",
    "layer.load_state_dict(torch.load('lab1_layer_weights.pth')) #load pretrained weights \n",
    "\n",
    "#then we can apply the our linear model to inputs of specified channel size (2 in our case)\n",
    "out_logits = layer(x)\n",
    "\n",
    "out_logits.shape, out_logits\n"
   ]
  },
  {
   "cell_type": "markdown",
   "metadata": {
    "id": "Lp6XpOMxZuHV"
   },
   "source": [
    "For classification we want to output the probabilities for each class. To achieve that we can add Softmax layer on top of the outputted logits  \n"
   ]
  },
  {
   "cell_type": "code",
   "execution_count": 4,
   "metadata": {
    "colab": {
     "base_uri": "https://localhost:8080/"
    },
    "execution": {
     "iopub.execute_input": "2024-02-21T18:33:45.839340Z",
     "iopub.status.busy": "2024-02-21T18:33:45.839035Z",
     "iopub.status.idle": "2024-02-21T18:33:45.901059Z",
     "shell.execute_reply": "2024-02-21T18:33:45.899910Z",
     "shell.execute_reply.started": "2024-02-21T18:33:45.839310Z"
    },
    "id": "KmujF17iZuHV",
    "outputId": "4b5eaefd-2e4a-407f-dce4-d8ab60f7a6d3",
    "tags": []
   },
   "outputs": [
    {
     "name": "stderr",
     "output_type": "stream",
     "text": [
      "/home/nathan/Documents/Deep_Learning/dlenv/lib/python3.10/site-packages/torch/nn/modules/module.py:1511: UserWarning: Implicit dimension choice for softmax has been deprecated. Change the call to include dim=X as an argument.\n",
      "  return self._call_impl(*args, **kwargs)\n"
     ]
    },
    {
     "data": {
      "text/plain": [
       "(torch.Size([20, 2]),\n",
       " tensor([[7.0345e-01, 2.9655e-01],\n",
       "         [3.0614e-02, 9.6939e-01],\n",
       "         [6.7005e-01, 3.2995e-01],\n",
       "         [8.4585e-02, 9.1541e-01],\n",
       "         [9.5922e-01, 4.0777e-02],\n",
       "         [9.9956e-01, 4.3807e-04],\n",
       "         [8.9583e-01, 1.0417e-01],\n",
       "         [5.9241e-03, 9.9408e-01],\n",
       "         [2.6657e-02, 9.7334e-01],\n",
       "         [6.2988e-02, 9.3701e-01],\n",
       "         [9.9413e-01, 5.8712e-03],\n",
       "         [6.8254e-02, 9.3175e-01],\n",
       "         [3.1657e-03, 9.9683e-01],\n",
       "         [7.3269e-01, 2.6731e-01],\n",
       "         [9.9980e-01, 2.0262e-04],\n",
       "         [9.9983e-01, 1.7450e-04],\n",
       "         [9.8766e-01, 1.2340e-02],\n",
       "         [1.6560e-01, 8.3440e-01],\n",
       "         [9.6126e-02, 9.0387e-01],\n",
       "         [9.9849e-01, 1.5123e-03]], grad_fn=<SoftmaxBackward0>))"
      ]
     },
     "execution_count": 4,
     "metadata": {},
     "output_type": "execute_result"
    }
   ],
   "source": [
    "softmax = nn.Softmax()\n",
    "out_probs = softmax(out_logits)\n",
    "\n",
    "out_probs.shape, out_probs"
   ]
  },
  {
   "cell_type": "markdown",
   "metadata": {
    "id": "2FL0sKTGZuHW"
   },
   "source": [
    "The predictions can be computed by choosing the class with the highest probability for each sample"
   ]
  },
  {
   "cell_type": "code",
   "execution_count": 5,
   "metadata": {
    "colab": {
     "base_uri": "https://localhost:8080/"
    },
    "execution": {
     "iopub.execute_input": "2024-02-21T18:33:45.902874Z",
     "iopub.status.busy": "2024-02-21T18:33:45.902490Z",
     "iopub.status.idle": "2024-02-21T18:33:45.965298Z",
     "shell.execute_reply": "2024-02-21T18:33:45.963668Z",
     "shell.execute_reply.started": "2024-02-21T18:33:45.902839Z"
    },
    "id": "gbBYpzeUZuHW",
    "outputId": "6d7e3875-2cac-42c6-ae24-4d262799786e",
    "tags": []
   },
   "outputs": [
    {
     "name": "stdout",
     "output_type": "stream",
     "text": [
      "outputted predictions:\n",
      " tensor([0, 1, 0, 1, 0, 0, 0, 1, 1, 1, 0, 1, 1, 0, 0, 0, 0, 1, 1, 0])\n",
      "target:\n",
      " tensor([0, 1, 0, 1, 0, 0, 0, 1, 1, 1, 0, 1, 1, 0, 0, 0, 0, 1, 0, 0])\n"
     ]
    }
   ],
   "source": [
    "predictions = out_probs.argmax(axis=1)\n",
    "print('outputted predictions:\\n', predictions)\n",
    "\n",
    "print('target:\\n', y.to(torch.long))  #.to(torch.long) casts float 1.0 and 0.0 values to int type\n"
   ]
  },
  {
   "cell_type": "markdown",
   "metadata": {
    "id": "emmBS9Lg2m5g"
   },
   "source": [
    "We see that the model correctly predicts the target output in 19 out of 20 cases"
   ]
  },
  {
   "cell_type": "markdown",
   "metadata": {
    "id": "S_gsKPzp2-E7"
   },
   "source": [
    "##### 1.3 Learn to use nn.Sequential and network class.\n"
   ]
  },
  {
   "cell_type": "markdown",
   "metadata": {
    "id": "HVjHlECoZuHX"
   },
   "source": [
    "Let's combine the layers together. To run layers subsequently we can add them one by one into the nn.Sequential layer"
   ]
  },
  {
   "cell_type": "code",
   "execution_count": 6,
   "metadata": {
    "colab": {
     "base_uri": "https://localhost:8080/"
    },
    "execution": {
     "iopub.execute_input": "2024-02-21T18:33:45.967767Z",
     "iopub.status.busy": "2024-02-21T18:33:45.967171Z",
     "iopub.status.idle": "2024-02-21T18:33:46.026357Z",
     "shell.execute_reply": "2024-02-21T18:33:46.024983Z",
     "shell.execute_reply.started": "2024-02-21T18:33:45.967693Z"
    },
    "id": "qolN2YGTZuHX",
    "outputId": "43f34872-a265-4e66-816c-10ce9f4a43ac",
    "tags": []
   },
   "outputs": [
    {
     "name": "stdout",
     "output_type": "stream",
     "text": [
      "outputted probabilities:\n",
      " tensor([[7.0345e-01, 2.9655e-01],\n",
      "        [3.0614e-02, 9.6939e-01],\n",
      "        [6.7005e-01, 3.2995e-01],\n",
      "        [8.4585e-02, 9.1541e-01],\n",
      "        [9.5922e-01, 4.0777e-02],\n",
      "        [9.9956e-01, 4.3807e-04],\n",
      "        [8.9583e-01, 1.0417e-01],\n",
      "        [5.9241e-03, 9.9408e-01],\n",
      "        [2.6657e-02, 9.7334e-01],\n",
      "        [6.2988e-02, 9.3701e-01],\n",
      "        [9.9413e-01, 5.8712e-03],\n",
      "        [6.8254e-02, 9.3175e-01],\n",
      "        [3.1657e-03, 9.9683e-01],\n",
      "        [7.3269e-01, 2.6731e-01],\n",
      "        [9.9980e-01, 2.0262e-04],\n",
      "        [9.9983e-01, 1.7450e-04],\n",
      "        [9.8766e-01, 1.2340e-02],\n",
      "        [1.6560e-01, 8.3440e-01],\n",
      "        [9.6126e-02, 9.0387e-01],\n",
      "        [9.9849e-01, 1.5123e-03]], grad_fn=<SoftmaxBackward0>)\n",
      "outputted predictions:\n",
      " tensor([0, 1, 0, 1, 0, 0, 0, 1, 1, 1, 0, 1, 1, 0, 0, 0, 0, 1, 1, 0])\n",
      "target:\n",
      " tensor([0, 1, 0, 1, 0, 0, 0, 1, 1, 1, 0, 1, 1, 0, 0, 0, 0, 1, 0, 0])\n",
      "\n",
      "\n",
      " model\n"
     ]
    },
    {
     "data": {
      "text/plain": [
       "Sequential(\n",
       "  (0): Linear(in_features=2, out_features=2, bias=True)\n",
       "  (1): Softmax(dim=1)\n",
       ")"
      ]
     },
     "execution_count": 6,
     "metadata": {},
     "output_type": "execute_result"
    }
   ],
   "source": [
    "# model can consist of any number of layers\n",
    "\n",
    "model = nn.Sequential(\n",
    "    nn.Linear(in_features=number_of_input_channels, out_features=number_of_classes),\n",
    "    nn.Softmax(dim=1))\n",
    "\n",
    "#you can load weights of parts of the model\n",
    "#but you have to make sure that the keys in dictionary model.state_dict() and in torch.load('lab1_layer_weights.pth') are matching\n",
    "#also the sizes of tensors corresponding to each key should be the same\n",
    "#otherwise you will get an error\n",
    "model[0].load_state_dict(torch.load('lab1_layer_weights.pth')) \n",
    "\n",
    "\n",
    "out_probs = model(x)\n",
    "print('outputted probabilities:\\n', out_probs)\n",
    "\n",
    "\n",
    "predictions = out_probs.argmax(axis=1)\n",
    "print('outputted predictions:\\n', predictions)\n",
    "\n",
    "print('target:\\n', y.to(torch.long))\n",
    "print('\\n\\n', 'model')\n",
    "model"
   ]
  },
  {
   "cell_type": "markdown",
   "metadata": {
    "id": "_1xO3k424s6j"
   },
   "source": [
    "To get more flexibility with network architecture, we can create a class defining a neural network. The class should have an **__init__** method with layers initialisation and **forward** method defining how those layers should be called. For automatic differentiation and compatibility with torch library, when writing a class of neural networks, it should inherit from a nn.Module class."
   ]
  },
  {
   "cell_type": "code",
   "execution_count": 7,
   "metadata": {
    "colab": {
     "base_uri": "https://localhost:8080/"
    },
    "execution": {
     "iopub.execute_input": "2024-02-21T18:33:46.028063Z",
     "iopub.status.busy": "2024-02-21T18:33:46.027715Z",
     "iopub.status.idle": "2024-02-21T18:33:46.077324Z",
     "shell.execute_reply": "2024-02-21T18:33:46.076265Z",
     "shell.execute_reply.started": "2024-02-21T18:33:46.028031Z"
    },
    "id": "HxxJ7y9n4s6k",
    "outputId": "0ff88b50-f8cd-4c3b-84a9-09b40041079f",
    "tags": []
   },
   "outputs": [
    {
     "name": "stdout",
     "output_type": "stream",
     "text": [
      "outputted probabilities:\n",
      " tensor([[7.0345e-01, 2.9655e-01],\n",
      "        [3.0614e-02, 9.6939e-01],\n",
      "        [6.7005e-01, 3.2995e-01],\n",
      "        [8.4585e-02, 9.1541e-01],\n",
      "        [9.5922e-01, 4.0777e-02],\n",
      "        [9.9956e-01, 4.3807e-04],\n",
      "        [8.9583e-01, 1.0417e-01],\n",
      "        [5.9241e-03, 9.9408e-01],\n",
      "        [2.6657e-02, 9.7334e-01],\n",
      "        [6.2988e-02, 9.3701e-01],\n",
      "        [9.9413e-01, 5.8712e-03],\n",
      "        [6.8254e-02, 9.3175e-01],\n",
      "        [3.1657e-03, 9.9683e-01],\n",
      "        [7.3269e-01, 2.6731e-01],\n",
      "        [9.9980e-01, 2.0262e-04],\n",
      "        [9.9983e-01, 1.7450e-04],\n",
      "        [9.8766e-01, 1.2340e-02],\n",
      "        [1.6560e-01, 8.3440e-01],\n",
      "        [9.6126e-02, 9.0387e-01],\n",
      "        [9.9849e-01, 1.5123e-03]], grad_fn=<SoftmaxBackward0>)\n",
      "outputted predictions:\n",
      " tensor([0, 1, 0, 1, 0, 0, 0, 1, 1, 1, 0, 1, 1, 0, 0, 0, 0, 1, 1, 0])\n",
      "target:\n",
      " tensor([0, 1, 0, 1, 0, 0, 0, 1, 1, 1, 0, 1, 1, 0, 0, 0, 0, 1, 0, 0])\n",
      "\n",
      "\n",
      " model\n"
     ]
    },
    {
     "data": {
      "text/plain": [
       "NN1Layer(\n",
       "  (linear): Linear(in_features=2, out_features=2, bias=True)\n",
       "  (softmax): Softmax(dim=1)\n",
       ")"
      ]
     },
     "execution_count": 7,
     "metadata": {},
     "output_type": "execute_result"
    }
   ],
   "source": [
    "#class of neural network. Should have an intialisation and forward pass\n",
    "class NN1Layer(nn.Module):\n",
    "    def __init__(self, in_channels, out_channels):\n",
    "        super().__init__()\n",
    "        self.linear = nn.Linear(in_channels, out_channels)\n",
    "        self.softmax = nn.Softmax(dim=1)\n",
    "\n",
    "    def forward(self, x):\n",
    "        logits = self.linear(x)\n",
    "        out = self.softmax(logits)\n",
    "        return out\n",
    "\n",
    "model = NN1Layer(number_of_input_channels, number_of_classes)\n",
    "model.linear.load_state_dict(torch.load('lab1_layer_weights.pth'))\n",
    "\n",
    "out_probs = model(x)\n",
    "print('outputted probabilities:\\n', out_probs)\n",
    "\n",
    "\n",
    "predictions = out_probs.argmax(axis=1)\n",
    "print('outputted predictions:\\n', predictions)\n",
    "\n",
    "print('target:\\n', y.to(torch.long))\n",
    "print('\\n\\n', 'model')\n",
    "model"
   ]
  },
  {
   "cell_type": "markdown",
   "metadata": {
    "id": "TS7VEVfM4HJH"
   },
   "source": [
    "##### 1.4 Familiarize yourself with summarization and counting of network parameters."
   ]
  },
  {
   "cell_type": "markdown",
   "metadata": {},
   "source": [
    "**TODO** create a network that takes Di = 5 inputs, Do = 4 outputs and has three hidden layers of sizes D1 = 20, D2 = 10, and D3 = 7 (4 layers in total). The activation beween linear layers should be a ReLU. What are the sizes of each weight matrix and bias vectors? Output a summary of a model with torchsummary. Calculate the number of parameters in the network. Implement this network in Pytorch and use the count_parameters() function to check your calculation."
   ]
  },
  {
   "cell_type": "code",
   "execution_count": 8,
   "metadata": {
    "colab": {
     "base_uri": "https://localhost:8080/"
    },
    "deletable": false,
    "execution": {
     "iopub.execute_input": "2024-02-21T18:33:46.078738Z",
     "iopub.status.busy": "2024-02-21T18:33:46.078420Z",
     "iopub.status.idle": "2024-02-21T18:33:46.223748Z",
     "shell.execute_reply": "2024-02-21T18:33:46.221761Z",
     "shell.execute_reply.started": "2024-02-21T18:33:46.078705Z"
    },
    "id": "7tTk70bIZuHY",
    "nbgrader": {
     "cell_type": "code",
     "checksum": "5b10c8e3245e72e611f31451666c0f00",
     "grade": false,
     "grade_id": "cell-f48aa97fb7cdc8f5",
     "locked": false,
     "schema_version": 3,
     "solution": true,
     "task": false
    },
    "outputId": "411d33a0-dba7-468a-ee7b-3141a6842a64",
    "tags": []
   },
   "outputs": [
    {
     "name": "stdout",
     "output_type": "stream",
     "text": [
      "model summary\n",
      "----------------------------------------------------------------\n",
      "        Layer (type)               Output Shape         Param #\n",
      "================================================================\n",
      "            Linear-1               [-1, 10, 20]             120\n",
      "              ReLU-2               [-1, 10, 20]               0\n",
      "            Linear-3               [-1, 10, 10]             210\n",
      "              ReLU-4               [-1, 10, 10]               0\n",
      "            Linear-5                [-1, 10, 7]              77\n",
      "              ReLU-6                [-1, 10, 7]               0\n",
      "            Linear-7                [-1, 10, 4]              32\n",
      "================================================================\n",
      "Total params: 439\n",
      "Trainable params: 439\n",
      "Non-trainable params: 0\n",
      "----------------------------------------------------------------\n",
      "Input size (MB): 0.00\n",
      "Forward/backward pass size (MB): 0.01\n",
      "Params size (MB): 0.00\n",
      "Estimated Total Size (MB): 0.01\n",
      "----------------------------------------------------------------\n",
      "\n",
      "\n",
      "\n",
      "model parameters\n",
      "<generator object Module.parameters at 0x7fac4f47f6f0>\n",
      "Parameter containing:\n",
      "tensor([[-0.1502, -0.0961,  0.0563,  0.3897,  0.2923],\n",
      "        [ 0.3970, -0.2150, -0.3822, -0.1931, -0.4322],\n",
      "        [ 0.3098,  0.0479, -0.1637, -0.1959,  0.1580],\n",
      "        [-0.4383, -0.1551,  0.1220,  0.3519,  0.2844],\n",
      "        [-0.1583, -0.2102,  0.4121, -0.3449, -0.3646],\n",
      "        [-0.1800, -0.2315, -0.2679,  0.1802, -0.2327],\n",
      "        [ 0.1466,  0.2623, -0.1810, -0.0558,  0.2845],\n",
      "        [-0.1660,  0.1348,  0.0698, -0.0333, -0.0370],\n",
      "        [-0.2904,  0.2937, -0.3008,  0.3705,  0.0136],\n",
      "        [-0.2257, -0.3142,  0.2633, -0.1547,  0.2258],\n",
      "        [-0.1184,  0.2321, -0.1839,  0.3263,  0.1724],\n",
      "        [ 0.4091,  0.3913, -0.0361, -0.4009,  0.4089],\n",
      "        [-0.1452,  0.0050, -0.1785, -0.1980, -0.3675],\n",
      "        [-0.2849,  0.3029,  0.1768, -0.3124, -0.0300],\n",
      "        [ 0.3664,  0.1981, -0.3585, -0.2652, -0.2609],\n",
      "        [-0.3343, -0.1978,  0.4038, -0.0231,  0.1596],\n",
      "        [ 0.4081, -0.2200, -0.1586,  0.2151,  0.1356],\n",
      "        [ 0.2200, -0.0126, -0.1958,  0.4025, -0.2853],\n",
      "        [ 0.2392, -0.2755,  0.3859, -0.4105,  0.1787],\n",
      "        [ 0.0354, -0.2897,  0.0682,  0.2646, -0.1430]], requires_grad=True)\n",
      "Parameter containing:\n",
      "tensor([ 0.0979,  0.2749, -0.1840, -0.2304,  0.3230, -0.1159,  0.1534,  0.0769,\n",
      "        -0.3564, -0.3167,  0.0555, -0.0498,  0.0631, -0.3406, -0.3899, -0.2099,\n",
      "         0.3378,  0.1033, -0.1721,  0.1236], requires_grad=True)\n",
      "Parameter containing:\n",
      "tensor([[ 0.2059,  0.0538,  0.0387,  0.1947,  0.1972,  0.1303, -0.0820, -0.1955,\n",
      "         -0.1299,  0.2173, -0.0785, -0.0241, -0.0455, -0.0785, -0.1307, -0.1532,\n",
      "         -0.0461,  0.1533, -0.1132,  0.0274],\n",
      "        [-0.0217,  0.1453,  0.0153, -0.0275,  0.0227,  0.0399, -0.0541,  0.0900,\n",
      "          0.1504,  0.0616,  0.0033,  0.0672,  0.0886, -0.1437, -0.1831, -0.0810,\n",
      "          0.0314, -0.0398,  0.0015, -0.0906],\n",
      "        [-0.0479,  0.0947,  0.2046,  0.0333, -0.1339,  0.1923,  0.0943,  0.1921,\n",
      "         -0.0156,  0.1382,  0.1977, -0.1261, -0.0336, -0.0142,  0.0137,  0.1130,\n",
      "         -0.2093,  0.0895,  0.1242,  0.0269],\n",
      "        [-0.0366,  0.0367, -0.1632, -0.0728, -0.1159, -0.1303,  0.1951, -0.1286,\n",
      "          0.0733, -0.1576, -0.1907,  0.1042,  0.1749,  0.1590, -0.2159,  0.0510,\n",
      "         -0.1647,  0.1715, -0.1159, -0.1981],\n",
      "        [ 0.1358, -0.0898,  0.1134,  0.2034, -0.0163,  0.1299, -0.2040,  0.1543,\n",
      "         -0.0403,  0.0476, -0.1911, -0.0774, -0.0932, -0.1534,  0.1129,  0.0537,\n",
      "         -0.0350, -0.1418, -0.1466, -0.1750],\n",
      "        [ 0.0812, -0.1630,  0.0437, -0.2200,  0.1730,  0.0266,  0.1253,  0.0570,\n",
      "         -0.1509,  0.1725,  0.1651, -0.1802, -0.1951, -0.0323, -0.0755, -0.1744,\n",
      "         -0.1372, -0.1135,  0.2045, -0.0866],\n",
      "        [-0.1826, -0.2120,  0.0810, -0.0917, -0.0665,  0.0581, -0.0008, -0.1376,\n",
      "         -0.1845,  0.0521, -0.2191,  0.2227, -0.1089,  0.0828,  0.0167, -0.0992,\n",
      "         -0.1151,  0.0079,  0.1765, -0.1916],\n",
      "        [-0.1968,  0.1125,  0.0934, -0.0895, -0.1790, -0.1471,  0.0687,  0.2220,\n",
      "         -0.0038,  0.1462,  0.0538,  0.1523,  0.1746, -0.0029,  0.2008,  0.0332,\n",
      "         -0.1375,  0.1571,  0.0694,  0.1887],\n",
      "        [-0.0771,  0.2049, -0.0258, -0.0399,  0.0992,  0.1528,  0.1391, -0.0782,\n",
      "          0.1570,  0.0582,  0.1916,  0.1754, -0.0939, -0.1865, -0.0389, -0.1137,\n",
      "          0.0769,  0.0157, -0.0417, -0.2131],\n",
      "        [ 0.1138, -0.1787, -0.1603,  0.0446,  0.0349, -0.1389,  0.1831,  0.1010,\n",
      "          0.2007, -0.0618,  0.0963, -0.1927,  0.0444, -0.0862, -0.0404,  0.0381,\n",
      "          0.0700,  0.0932, -0.0125, -0.0375]], requires_grad=True)\n",
      "Parameter containing:\n",
      "tensor([ 0.0198,  0.1237,  0.2037, -0.0632, -0.1853,  0.1328, -0.2102,  0.1337,\n",
      "         0.1032,  0.1224], requires_grad=True)\n",
      "Parameter containing:\n",
      "tensor([[-0.1580, -0.2289,  0.1227,  0.2076, -0.2952,  0.0041, -0.1479,  0.0958,\n",
      "         -0.1496,  0.2132],\n",
      "        [-0.0785, -0.2005, -0.2059, -0.0372, -0.2647,  0.1020,  0.2094,  0.2620,\n",
      "         -0.0878, -0.2630],\n",
      "        [ 0.0265, -0.1136,  0.0482, -0.2401,  0.1533, -0.3065,  0.0713, -0.0412,\n",
      "         -0.1539,  0.3152],\n",
      "        [ 0.1544, -0.0529,  0.0918, -0.2981, -0.2872,  0.0142, -0.0051, -0.2030,\n",
      "          0.0864, -0.1057],\n",
      "        [-0.2551,  0.0287, -0.1265,  0.3154,  0.1114, -0.1902, -0.1709,  0.2931,\n",
      "          0.1999,  0.1609],\n",
      "        [-0.1994,  0.0050,  0.2004,  0.0478,  0.0406, -0.0554, -0.0008,  0.1006,\n",
      "          0.1657, -0.0300],\n",
      "        [-0.1763, -0.0305,  0.1675, -0.1829,  0.2751,  0.1709, -0.2084,  0.2055,\n",
      "          0.1227, -0.2412]], requires_grad=True)\n",
      "Parameter containing:\n",
      "tensor([ 0.0168,  0.2417, -0.1320, -0.2525, -0.1385,  0.0958, -0.1476],\n",
      "       requires_grad=True)\n",
      "Parameter containing:\n",
      "tensor([[-0.0365,  0.1083,  0.2504, -0.1545,  0.2252, -0.1941,  0.1726],\n",
      "        [ 0.1168,  0.0512, -0.0464,  0.3344,  0.0902, -0.3746,  0.1972],\n",
      "        [ 0.1949, -0.3031, -0.0436, -0.1509, -0.3338,  0.0728, -0.3647],\n",
      "        [-0.0533, -0.1370, -0.3091, -0.2056,  0.1096, -0.0188,  0.3410]],\n",
      "       requires_grad=True)\n",
      "Parameter containing:\n",
      "tensor([ 0.2777,  0.0505, -0.1701, -0.0303], requires_grad=True)\n",
      "\n",
      "\n",
      "\n",
      "number of parameters\n",
      "439\n"
     ]
    }
   ],
   "source": [
    "#create a simple neural network with nn.Sequential\n",
    "\n",
    "\n",
    "D_i = 5\n",
    "D_o = 4\n",
    "\n",
    "D_1 = 20\n",
    "D_2 = 10\n",
    "D_3 = 7\n",
    "#TODO create a network\n",
    "# model = ...\n",
    "# YOUR CODE HERE\n",
    "# raise NotImplementedError()\n",
    "\n",
    "model = nn.Sequential(\n",
    "    nn.Linear(in_features=D_i, out_features=D_1),\n",
    "    nn.ReLU(),\n",
    "    nn.Linear(in_features=D_1, out_features=D_2),\n",
    "    nn.ReLU(),\n",
    "    nn.Linear(in_features=D_2, out_features=D_3),\n",
    "    nn.ReLU(),\n",
    "    nn.Linear(in_features=D_3, out_features=D_o)\n",
    "    )\n",
    "\n",
    "#model summary\n",
    "# you might need to install torchsummary with !pip install torchsummary\n",
    "\n",
    "from torchsummary import summary\n",
    "print('model summary')\n",
    "summary(model, (10, 5)) # summary takes a model and an input data (or a shape of input data)\n",
    "\n",
    "print('\\n\\n')\n",
    "print('model parameters')\n",
    "print( model.parameters() )\n",
    "for parameter in model.parameters():\n",
    "    print(parameter)\n",
    "\n",
    "def count_parameters(model):\n",
    "    return sum(p.numel() for p in model.parameters() if p.requires_grad)\n",
    "\n",
    "print('\\n\\n')\n",
    "print('number of parameters')\n",
    "print(count_parameters(model))\n",
    "\n"
   ]
  },
  {
   "cell_type": "code",
   "execution_count": 9,
   "metadata": {
    "deletable": false,
    "editable": false,
    "execution": {
     "iopub.execute_input": "2024-02-21T18:33:46.225374Z",
     "iopub.status.busy": "2024-02-21T18:33:46.225060Z",
     "iopub.status.idle": "2024-02-21T18:33:46.234364Z",
     "shell.execute_reply": "2024-02-21T18:33:46.233047Z",
     "shell.execute_reply.started": "2024-02-21T18:33:46.225341Z"
    },
    "nbgrader": {
     "cell_type": "code",
     "checksum": "dd2e063612bb4c0802d54b38327069a5",
     "grade": true,
     "grade_id": "cell-0f5b1b2fd66bab7c",
     "locked": true,
     "points": 0,
     "schema_version": 3,
     "solution": false,
     "task": false
    },
    "tags": []
   },
   "outputs": [
    {
     "data": {
      "text/plain": [
       "Sequential(\n",
       "  (0): Linear(in_features=5, out_features=20, bias=True)\n",
       "  (1): ReLU()\n",
       "  (2): Linear(in_features=20, out_features=10, bias=True)\n",
       "  (3): ReLU()\n",
       "  (4): Linear(in_features=10, out_features=7, bias=True)\n",
       "  (5): ReLU()\n",
       "  (6): Linear(in_features=7, out_features=4, bias=True)\n",
       ")"
      ]
     },
     "execution_count": 9,
     "metadata": {},
     "output_type": "execute_result"
    }
   ],
   "source": [
    "\n",
    "#test your solution\n",
    "# hidden test here\n",
    "model"
   ]
  },
  {
   "cell_type": "markdown",
   "metadata": {
    "id": "0ftTUFsstaCI"
   },
   "source": [
    "\n",
    "\n",
    "### Image data"
   ]
  },
  {
   "cell_type": "markdown",
   "metadata": {
    "id": "lhJbKPhb6x5g"
   },
   "source": [
    "##### 1.5 Recall how to read and visualize an image with a PIL library. Convert an image from tensor to PIL Image object (and vice versa). Display image channels (R,G,B) separately. "
   ]
  },
  {
   "cell_type": "code",
   "execution_count": 11,
   "metadata": {
    "execution": {
     "iopub.execute_input": "2024-02-21T18:33:46.238968Z",
     "iopub.status.busy": "2024-02-21T18:33:46.238641Z",
     "iopub.status.idle": "2024-02-21T18:33:47.161725Z",
     "shell.execute_reply": "2024-02-21T18:33:47.160338Z",
     "shell.execute_reply.started": "2024-02-21T18:33:46.238930Z"
    },
    "id": "8BPNw2dAtaCK",
    "tags": []
   },
   "outputs": [],
   "source": [
    "import torch\n",
    "from torchvision.transforms import v2\n",
    "from PIL import Image\n",
    "import matplotlib.pyplot as plt"
   ]
  },
  {
   "cell_type": "code",
   "execution_count": 12,
   "metadata": {
    "execution": {
     "iopub.execute_input": "2024-02-21T18:33:47.163622Z",
     "iopub.status.busy": "2024-02-21T18:33:47.163329Z",
     "iopub.status.idle": "2024-02-21T18:33:47.223111Z",
     "shell.execute_reply": "2024-02-21T18:33:47.221735Z",
     "shell.execute_reply.started": "2024-02-21T18:33:47.163595Z"
    },
    "id": "NZRzmkENtaCL",
    "tags": []
   },
   "outputs": [],
   "source": [
    "# read an image using Image module from Pilow python library that has support for opening,\n",
    "# manipulating, and saving many different image file formats\n",
    "# https://pillow.readthedocs.io/en/stable/\n",
    "\n",
    "path = 'lab1_image.jpg'\n",
    "image = Image.open(path)"
   ]
  },
  {
   "cell_type": "code",
   "execution_count": 13,
   "metadata": {
    "colab": {
     "base_uri": "https://localhost:8080/"
    },
    "execution": {
     "iopub.execute_input": "2024-02-21T18:33:47.224728Z",
     "iopub.status.busy": "2024-02-21T18:33:47.224420Z",
     "iopub.status.idle": "2024-02-21T18:33:47.863004Z",
     "shell.execute_reply": "2024-02-21T18:33:47.861578Z",
     "shell.execute_reply.started": "2024-02-21T18:33:47.224696Z"
    },
    "id": "WUR7G3zZtaCL",
    "outputId": "07ff0edf-ffe4-41a6-a13a-e8e4eb7c8980",
    "tags": []
   },
   "outputs": [
    {
     "data": {
      "text/plain": [
       "('R', 'G', 'B')"
      ]
     },
     "execution_count": 13,
     "metadata": {},
     "output_type": "execute_result"
    }
   ],
   "source": [
    "# check the number of channels for the image\n",
    "image.getbands()"
   ]
  },
  {
   "cell_type": "code",
   "execution_count": 14,
   "metadata": {
    "colab": {
     "base_uri": "https://localhost:8080/",
     "height": 452
    },
    "execution": {
     "iopub.execute_input": "2024-02-21T18:33:47.865419Z",
     "iopub.status.busy": "2024-02-21T18:33:47.865033Z",
     "iopub.status.idle": "2024-02-21T18:33:48.868546Z",
     "shell.execute_reply": "2024-02-21T18:33:48.867024Z",
     "shell.execute_reply.started": "2024-02-21T18:33:47.865382Z"
    },
    "id": "pABsEUzxtaCM",
    "outputId": "8d201d0f-c683-4847-aec0-e995710005ed",
    "tags": []
   },
   "outputs": [
    {
     "data": {
      "text/plain": [
       "<matplotlib.image.AxesImage at 0x7fac49b4cca0>"
      ]
     },
     "execution_count": 14,
     "metadata": {},
     "output_type": "execute_result"
    },
    {
     "data": {
      "image/png": "[encoded data removed]",
      "text/plain": [
       "<Figure size 640x480 with 1 Axes>"
      ]
     },
     "metadata": {},
     "output_type": "display_data"
    }
   ],
   "source": [
    "plt.imshow(image)"
   ]
  },
  {
   "cell_type": "code",
   "execution_count": 15,
   "metadata": {
    "execution": {
     "iopub.execute_input": "2024-02-21T18:33:48.870370Z",
     "iopub.status.busy": "2024-02-21T18:33:48.870003Z",
     "iopub.status.idle": "2024-02-21T18:33:48.890868Z",
     "shell.execute_reply": "2024-02-21T18:33:48.889651Z",
     "shell.execute_reply.started": "2024-02-21T18:33:48.870335Z"
    },
    "tags": []
   },
   "outputs": [
    {
     "data": {
      "text/plain": [
       "tensor([[[130, 129, 129,  ..., 112, 110, 110],\n",
       "         [131, 129, 129,  ..., 113, 109, 108],\n",
       "         [129, 129, 129,  ..., 112, 110, 108],\n",
       "         ...,\n",
       "         [ 46,  45,  33,  ..., 172, 170, 172],\n",
       "         [ 54,  35,  26,  ..., 172, 169, 165],\n",
       "         [ 42,  29,  32,  ..., 174, 170, 171]],\n",
       "\n",
       "        [[181, 180, 180,  ..., 163, 164, 164],\n",
       "         [182, 180, 180,  ..., 164, 163, 162],\n",
       "         [180, 180, 180,  ..., 163, 164, 162],\n",
       "         ...,\n",
       "         [ 60,  59,  47,  ..., 166, 164, 166],\n",
       "         [ 68,  49,  40,  ..., 166, 163, 159],\n",
       "         [ 56,  43,  46,  ..., 168, 164, 165]],\n",
       "\n",
       "        [[238, 237, 237,  ..., 228, 228, 228],\n",
       "         [239, 237, 237,  ..., 229, 227, 226],\n",
       "         [237, 237, 237,  ..., 228, 228, 226],\n",
       "         ...,\n",
       "         [ 69,  68,  58,  ..., 116, 114, 116],\n",
       "         [ 77,  58,  51,  ..., 116, 113, 109],\n",
       "         [ 65,  52,  57,  ..., 120, 116, 117]]], dtype=torch.uint8)"
      ]
     },
     "execution_count": 15,
     "metadata": {},
     "output_type": "execute_result"
    }
   ],
   "source": [
    "\n",
    "v2.functional.pil_to_tensor(image)"
   ]
  },
  {
   "cell_type": "code",
   "execution_count": null,
   "metadata": {
    "deletable": false,
    "execution": {
     "iopub.execute_input": "2024-02-21T18:33:48.892254Z",
     "iopub.status.busy": "2024-02-21T18:33:48.891972Z",
     "iopub.status.idle": "2024-02-21T18:33:48.919586Z",
     "shell.execute_reply": "2024-02-21T18:33:48.918211Z",
     "shell.execute_reply.started": "2024-02-21T18:33:48.892206Z"
    },
    "id": "A_QWK6iwDRTF",
    "nbgrader": {
     "cell_type": "code",
     "checksum": "451089cfd61a0c20b84216e3702dda0b",
     "grade": false,
     "grade_id": "cell-4dc3a19bb6bf43bd",
     "locked": false,
     "schema_version": 3,
     "solution": true,
     "task": false
    },
    "tags": []
   },
   "outputs": [],
   "source": [
    "def extract_channel(image, channel): \n",
    "    '''    \n",
    "    This function takes RGB PIL image and a channel name (either \"R\", \"G\", or \"B\").\n",
    "    It should return only Red, Green, or Blue components of the image, setting the unused channels to zero\n",
    "    image: PIL Image\n",
    "    channel: str. Possible values: ['R', 'G', 'B']\n",
    "    \n",
    "    return: image_single_channel\n",
    "    '''\n",
    "    # TODO Visualize each channel of an RGB image\n",
    "    # YOUR CODE HERE\n",
    "    raise NotImplementedError()\n",
    "    return(image_single_channel)"
   ]
  },
  {
   "cell_type": "code",
   "execution_count": null,
   "metadata": {
    "colab": {
     "base_uri": "https://localhost:8080/",
     "height": 1000
    },
    "execution": {
     "iopub.execute_input": "2024-02-21T18:33:48.921082Z",
     "iopub.status.busy": "2024-02-21T18:33:48.920729Z",
     "iopub.status.idle": "2024-02-21T18:33:50.178191Z",
     "shell.execute_reply": "2024-02-21T18:33:50.176975Z",
     "shell.execute_reply.started": "2024-02-21T18:33:48.921048Z"
    },
    "id": "lOU4xCrCDRTH",
    "outputId": "a415382d-4f85-493c-9496-67a17898366f",
    "tags": []
   },
   "outputs": [],
   "source": [
    "for i in [\"R\", \"G\", \"B\"]:\n",
    "    plt.imshow(extract_channel(image, i))\n",
    "    plt.show()"
   ]
  },
  {
   "cell_type": "markdown",
   "metadata": {
    "id": "_veCo6aV8SXJ"
   },
   "source": [
    "##### 1.6 Apply image manipulation techniques: rotation and adjustment of the brightness."
   ]
  },
  {
   "cell_type": "markdown",
   "metadata": {
    "id": "8DnXRs5HtaCM"
   },
   "source": [
    "there are multuple libraries on image editing, we will stick to using the transformations that are provided by the pytorch"
   ]
  },
  {
   "cell_type": "code",
   "execution_count": null,
   "metadata": {
    "colab": {
     "base_uri": "https://localhost:8080/",
     "height": 337
    },
    "execution": {
     "iopub.execute_input": "2024-02-21T18:33:50.179541Z",
     "iopub.status.busy": "2024-02-21T18:33:50.179276Z",
     "iopub.status.idle": "2024-02-21T18:33:50.464024Z",
     "shell.execute_reply": "2024-02-21T18:33:50.462555Z",
     "shell.execute_reply.started": "2024-02-21T18:33:50.179514Z"
    },
    "id": "36S8k4HOtaCN",
    "outputId": "1eaf5b88-b171-4d0f-d1db-313af1a8ccb6",
    "tags": []
   },
   "outputs": [],
   "source": [
    "v2.functional.rotate(image, -20, expand = True)"
   ]
  },
  {
   "cell_type": "code",
   "execution_count": null,
   "metadata": {
    "colab": {
     "base_uri": "https://localhost:8080/",
     "height": 283
    },
    "execution": {
     "iopub.execute_input": "2024-02-21T18:33:50.465666Z",
     "iopub.status.busy": "2024-02-21T18:33:50.465404Z",
     "iopub.status.idle": "2024-02-21T18:33:50.683928Z",
     "shell.execute_reply": "2024-02-21T18:33:50.682450Z",
     "shell.execute_reply.started": "2024-02-21T18:33:50.465639Z"
    },
    "id": "T9bjMYDQtaCP",
    "outputId": "f5dfd03c-c1b8-48a7-ea2a-68fab145ca22"
   },
   "outputs": [],
   "source": [
    "v2.functional.adjust_brightness(image, 0.3)"
   ]
  },
  {
   "cell_type": "markdown",
   "metadata": {
    "id": "kyUDRb35taCS"
   },
   "source": [
    "\"torchvision.transforms are common image transformations. They can be chained together using Compose. Additionally, there is the torchvision.transforms.functional module. Functional transforms give fine-grained control over the transformations. This is useful if you have to build a more complex transformation pipeline (e.g. in the case of segmentation tasks).\" https://pytorch.org/vision/0.8/transforms.html"
   ]
  },
  {
   "cell_type": "markdown",
   "metadata": {
    "id": "og_7s8rfELbZ"
   },
   "source": [
    "### Audio"
   ]
  },
  {
   "cell_type": "markdown",
   "metadata": {
    "id": "W-XBgku19dAY"
   },
   "source": [
    "##### 1.7 Recall what mono and stereo audio signals are and how they are digitized. Read audio files with pytorch.\n"
   ]
  },
  {
   "cell_type": "markdown",
   "metadata": {
    "id": "NsmmZLz9dvgb"
   },
   "source": [
    "To easily work with audio files in python they should be presented in .wav format.\n",
    "\n",
    "Sound is a continuous signal. To digitize the signal, we take a certain number of samples per second. The number of samples per second is called the sampling rate\n",
    "[https://www.izotope.com/en/learn/digital-audio-basics-sample-rate-and-bit-depth.html#:~:text=Sample%20rate%20is%20the%20number,frequencies%20captured%20in%20digital%20audio.]\n",
    "\n",
    "\n",
    "\n",
    " We can read waveform and a sample rate as tensors with torch function torchaudio.load(filename). Waveform is a sequence of amplitudes in the range [-1, 1]. Waveform is a 2 dimensional vector where first dimension is number of channels, for example mono sound has 1 channel, stereo sound has 2 channels"
   ]
  },
  {
   "cell_type": "markdown",
   "metadata": {},
   "source": [
    "Install torchaudio with pip, if not installed yet"
   ]
  },
  {
   "cell_type": "code",
   "execution_count": null,
   "metadata": {
    "execution": {
     "iopub.execute_input": "2024-02-21T18:33:50.685587Z",
     "iopub.status.busy": "2024-02-21T18:33:50.685310Z",
     "iopub.status.idle": "2024-02-21T18:33:52.811297Z",
     "shell.execute_reply": "2024-02-21T18:33:52.808996Z",
     "shell.execute_reply.started": "2024-02-21T18:33:50.685558Z"
    },
    "id": "qhLjAerMYUU9",
    "tags": []
   },
   "outputs": [],
   "source": [
    "import torchaudio\n",
    "import matplotlib.pyplot as plt\n",
    "\n",
    "from IPython.display import Audio, display\n"
   ]
  },
  {
   "cell_type": "code",
   "execution_count": null,
   "metadata": {
    "colab": {
     "base_uri": "https://localhost:8080/"
    },
    "execution": {
     "iopub.execute_input": "2024-02-21T18:33:52.814715Z",
     "iopub.status.busy": "2024-02-21T18:33:52.814104Z",
     "iopub.status.idle": "2024-02-21T18:33:52.914261Z",
     "shell.execute_reply": "2024-02-21T18:33:52.911929Z",
     "shell.execute_reply.started": "2024-02-21T18:33:52.814658Z"
    },
    "id": "Bgi-HW5oYpz3",
    "outputId": "d9feee08-161c-4c2b-ede5-7d7e6ce90813"
   },
   "outputs": [],
   "source": [
    "# NOTE: make sure to upload the audio file in the colab session\n",
    "audio_filepath = 'lab1_audio.wav'\n",
    "# To easily work with audio files they should be presented in .wav format\n",
    "# load the audio as a waveform\n",
    "# with pytorch\n",
    "waveform, sample_rate = torchaudio.load(audio_filepath)\n",
    "waveform, sample_rate"
   ]
  },
  {
   "cell_type": "code",
   "execution_count": null,
   "metadata": {
    "colab": {
     "base_uri": "https://localhost:8080/"
    },
    "execution": {
     "iopub.execute_input": "2024-02-21T18:33:52.916685Z",
     "iopub.status.busy": "2024-02-21T18:33:52.916279Z",
     "iopub.status.idle": "2024-02-21T18:33:53.000938Z",
     "shell.execute_reply": "2024-02-21T18:33:52.934373Z",
     "shell.execute_reply.started": "2024-02-21T18:33:52.916648Z"
    },
    "id": "Y50aQtz-eghM",
    "outputId": "99357082-6aea-4d29-c990-c0be594f12da"
   },
   "outputs": [],
   "source": [
    "## Print shape and minimal and maximal values of the read waveform\n",
    "print('waveform shape', waveform.shape)\n",
    "print('waveform min value', waveform.min())\n",
    "print('waveform max value', waveform.max())"
   ]
  },
  {
   "cell_type": "markdown",
   "metadata": {
    "id": "war4csvj-fti"
   },
   "source": [
    "##### 1.8 Visualize audio files for a mono signal as waveform and spectrogram."
   ]
  },
  {
   "cell_type": "markdown",
   "metadata": {
    "id": "ad7AfTTqit2Q"
   },
   "source": [
    "Let's visualise and hear the audio. \n",
    "\n",
    "Torch can display audio samples with 1 or 2 channels"
   ]
  },
  {
   "cell_type": "code",
   "execution_count": null,
   "metadata": {
    "colab": {
     "base_uri": "https://localhost:8080/",
     "height": 61
    },
    "execution": {
     "iopub.execute_input": "2024-02-21T18:33:53.003641Z",
     "iopub.status.busy": "2024-02-21T18:33:53.003063Z",
     "iopub.status.idle": "2024-02-21T18:33:53.045567Z",
     "shell.execute_reply": "2024-02-21T18:33:53.044334Z",
     "shell.execute_reply.started": "2024-02-21T18:33:53.003587Z"
    },
    "id": "nONrm64ni-sw",
    "outputId": "33048d1e-edb8-4056-a900-d63e27bee8f7"
   },
   "outputs": [],
   "source": [
    "#audio playing\n",
    "\n",
    "def play_audio(waveform, sample_rate):\n",
    "    waveform = waveform.numpy()\n",
    "\n",
    "    num_channels, num_frames = waveform.shape\n",
    "    if num_channels == 1:\n",
    "        display(Audio(waveform[0], rate=sample_rate))\n",
    "    elif num_channels == 2:\n",
    "        display(Audio((waveform[0], waveform[1]), rate=sample_rate))\n",
    "    else:\n",
    "        raise ValueError(\"Waveform with more than 2 channels are not supported.\")\n",
    "\n",
    "\n",
    "play_audio(waveform, sample_rate)\n"
   ]
  },
  {
   "cell_type": "code",
   "execution_count": null,
   "metadata": {
    "colab": {
     "base_uri": "https://localhost:8080/",
     "height": 487
    },
    "execution": {
     "iopub.execute_input": "2024-02-21T18:33:53.047092Z",
     "iopub.status.busy": "2024-02-21T18:33:53.046760Z",
     "iopub.status.idle": "2024-02-21T18:33:54.478953Z",
     "shell.execute_reply": "2024-02-21T18:33:54.477770Z",
     "shell.execute_reply.started": "2024-02-21T18:33:53.047062Z"
    },
    "id": "O9QObm3dky4W",
    "outputId": "be4be9bc-e4bb-438e-b83e-11763026845e"
   },
   "outputs": [],
   "source": [
    "# plotting one channel of a waveform\n",
    "\n",
    "\n",
    "def plot_1d_waveform(waveform, sample_rate):\n",
    "    plt.figure(figsize=(5, 5))\n",
    "    waveform = waveform.numpy()\n",
    "\n",
    "    num_channels, num_frames = waveform.shape\n",
    "    time_axis = torch.arange(0, num_frames) / sample_rate\n",
    "\n",
    "    # waveform[0] - the first channel of our mono audio\n",
    "    plt.plot(time_axis, waveform[0], linewidth=1)\n",
    "    plt.grid(True)\n",
    "    plt.xlabel('Channel 1')\n",
    "    plt.title('Waveform')\n",
    "    plt.show(block=False)\n",
    "\n",
    "\n",
    "plot_1d_waveform(waveform, sample_rate)\n"
   ]
  },
  {
   "cell_type": "code",
   "execution_count": null,
   "metadata": {
    "colab": {
     "base_uri": "https://localhost:8080/",
     "height": 507
    },
    "execution": {
     "iopub.execute_input": "2024-02-21T18:33:54.480396Z",
     "iopub.status.busy": "2024-02-21T18:33:54.480115Z",
     "iopub.status.idle": "2024-02-21T18:33:54.923072Z",
     "shell.execute_reply": "2024-02-21T18:33:54.921835Z",
     "shell.execute_reply.started": "2024-02-21T18:33:54.480370Z"
    },
    "id": "iEXLAuIFmjtx",
    "outputId": "57224c66-b344-4ba6-e342-0f996dca01bf"
   },
   "outputs": [],
   "source": [
    "\n",
    "# plotting one channel of a spectrogram\n",
    "\n",
    "def plot_1d_specgram(waveform, sample_rate, title=\"Spectrogram\", xlim=None):\n",
    "    waveform = waveform.numpy()\n",
    "\n",
    "    num_channels, num_frames = waveform.shape\n",
    "    time_axis = torch.arange(0, num_frames) / sample_rate\n",
    "\n",
    "    figure, axes = plt.subplots(num_channels, 1)\n",
    "    plt.specgram(waveform[0], Fs=sample_rate)\n",
    "    plt.xlabel('Channel 1')\n",
    "    plt.title('Spectrogram')\n",
    "    plt.show()\n",
    "\n",
    "plot_1d_specgram(waveform, sample_rate)"
   ]
  },
  {
   "cell_type": "markdown",
   "metadata": {
    "id": "1np4aUgw-qxU"
   },
   "source": [
    "##### 1.9 Modify the audio speed and save the modified audio file."
   ]
  },
  {
   "cell_type": "code",
   "execution_count": null,
   "metadata": {
    "colab": {
     "base_uri": "https://localhost:8080/",
     "height": 61
    },
    "execution": {
     "iopub.execute_input": "2024-02-21T18:33:54.924791Z",
     "iopub.status.busy": "2024-02-21T18:33:54.924479Z",
     "iopub.status.idle": "2024-02-21T18:33:55.114353Z",
     "shell.execute_reply": "2024-02-21T18:33:55.113105Z",
     "shell.execute_reply.started": "2024-02-21T18:33:54.924763Z"
    },
    "id": "Yxq4RwhOkM_f",
    "outputId": "147d0bdc-3e9e-4035-87e0-6e85e2ad983d",
    "tags": []
   },
   "outputs": [],
   "source": [
    "\n",
    "def change_speed(wav, sample_rate, factor):\n",
    "    t = torchaudio.transforms.Speed(sample_rate, factor)\n",
    "    return t(wav)\n",
    "\n",
    "\n",
    "#speed up\n",
    "factor = 1.5\n",
    "play_audio(change_speed(waveform, sample_rate, factor)[0], sample_rate)\n"
   ]
  },
  {
   "cell_type": "code",
   "execution_count": null,
   "metadata": {
    "colab": {
     "base_uri": "https://localhost:8080/",
     "height": 61
    },
    "execution": {
     "iopub.execute_input": "2024-02-21T18:33:55.115963Z",
     "iopub.status.busy": "2024-02-21T18:33:55.115607Z",
     "iopub.status.idle": "2024-02-21T18:33:55.413824Z",
     "shell.execute_reply": "2024-02-21T18:33:55.412278Z",
     "shell.execute_reply.started": "2024-02-21T18:33:55.115914Z"
    },
    "id": "_rpmbkw0uisE",
    "outputId": "828546fd-7ff2-4b46-fc7e-4ae5b1150111"
   },
   "outputs": [],
   "source": [
    "#slow down\n",
    "factor = 0.75\n",
    "play_audio(change_speed(waveform, sample_rate, factor)[0], sample_rate)"
   ]
  },
  {
   "cell_type": "code",
   "execution_count": null,
   "metadata": {
    "execution": {
     "iopub.execute_input": "2024-02-21T18:33:55.415718Z",
     "iopub.status.busy": "2024-02-21T18:33:55.415356Z",
     "iopub.status.idle": "2024-02-21T18:33:55.513823Z",
     "shell.execute_reply": "2024-02-21T18:33:55.512019Z",
     "shell.execute_reply.started": "2024-02-21T18:33:55.415684Z"
    },
    "id": "qRV4xxb5B_6R"
   },
   "outputs": [],
   "source": [
    "# save audio\n",
    "path = \"lab1_audio_saved.wav\"\n",
    "torchaudio.save(path, waveform, sample_rate)"
   ]
  },
  {
   "cell_type": "markdown",
   "metadata": {
    "id": "d9kmadWQADB7"
   },
   "source": [
    "##### 1.10 Add noise to the audio with torchaudio.\n"
   ]
  },
  {
   "cell_type": "code",
   "execution_count": null,
   "metadata": {
    "colab": {
     "base_uri": "https://localhost:8080/",
     "height": 61
    },
    "deletable": false,
    "execution": {
     "iopub.execute_input": "2024-02-21T18:33:55.522533Z",
     "iopub.status.busy": "2024-02-21T18:33:55.522208Z",
     "iopub.status.idle": "2024-02-21T18:33:55.708822Z",
     "shell.execute_reply": "2024-02-21T18:33:55.706838Z",
     "shell.execute_reply.started": "2024-02-21T18:33:55.522501Z"
    },
    "id": "0Hnkr7zGF1Tm",
    "nbgrader": {
     "cell_type": "code",
     "checksum": "b97acb67a3f8e567c288334c0778e0b2",
     "grade": false,
     "grade_id": "cell-c4fb06cef3067ec9",
     "locked": false,
     "schema_version": 3,
     "solution": true,
     "task": false
    },
    "outputId": "fda5a9eb-8793-4e5e-89b0-0e57a4876429",
    "tags": []
   },
   "outputs": [],
   "source": [
    "import torch\n",
    "import numpy as np\n",
    "\n",
    "\n",
    "def add_noise(wav, snr):\n",
    "    #TODO add noise with torchaudio.transforms\n",
    "\n",
    "    #return variable noisy_audio\n",
    "    # YOUR CODE HERE\n",
    "    raise NotImplementedError()\n",
    "    return noisy_audio\n",
    "\n",
    "\n",
    "noisy_waveform = add_noise(waveform, snr=np.array([0.1, 0.9]))\n",
    "play_audio(noisy_waveform, sample_rate)"
   ]
  },
  {
   "cell_type": "markdown",
   "metadata": {
    "id": "fp9CwgsFCJ9W"
   },
   "source": [
    "### Text data:\n",
    "\n"
   ]
  },
  {
   "cell_type": "markdown",
   "metadata": {
    "id": "bqxNZpl4AWAw"
   },
   "source": [
    "##### 1.11 Read text data from a given file and explore different reading functions. \n",
    "\n",
    "*   read text from .txt file\n",
    "*   explore different reading functions (i.e. read(), readlines())\n",
    "\n",
    "More about reading functions:\n",
    "https://www.geeksforgeeks.org/reading-writing-text-files-python/\n",
    "\n",
    "https://stackoverflow.com/questions/58073162/difference-in-read-readline-and-readlines-in-python\n",
    "\n"
   ]
  },
  {
   "cell_type": "code",
   "execution_count": null,
   "metadata": {
    "colab": {
     "base_uri": "https://localhost:8080/"
    },
    "execution": {
     "iopub.execute_input": "2024-02-21T18:33:55.711722Z",
     "iopub.status.busy": "2024-02-21T18:33:55.711153Z",
     "iopub.status.idle": "2024-02-21T18:33:55.743066Z",
     "shell.execute_reply": "2024-02-21T18:33:55.741341Z",
     "shell.execute_reply.started": "2024-02-21T18:33:55.711664Z"
    },
    "id": "KNmt5RM_v_Ky",
    "outputId": "f792a076-dcba-4fc7-9d12-2b1e886a0ad4",
    "tags": []
   },
   "outputs": [],
   "source": [
    "#NOTE: make sure to upload the text file into the colab session\n",
    "\n",
    "#read txt file\n",
    "#open the text file open(\"File_Name\",\"Access_Mode\")\n",
    "#access_mode -> \"r\": read only, \"r+\": read and write, \"w\": write only, \"w+\" write and read, \"a\": append only, \"a+\" append and read\n",
    "text_data = open(\"lab1_textdata_init.txt\", \"r+\")\n",
    "\n",
    "#read the data from the .txt file into a string\n",
    "# read() function reads an entire file, as though it were a string\n",
    "lines = text_data.read()\n",
    "\n",
    "#check the type of the text file, the type of variable lines\n",
    "print(\"The output of Read function is \")\n",
    "print(type(text_data),type(lines))\n",
    "\n",
    "#print the content of lines varible\n",
    "print(lines)"
   ]
  },
  {
   "cell_type": "code",
   "execution_count": null,
   "metadata": {
    "colab": {
     "base_uri": "https://localhost:8080/"
    },
    "execution": {
     "iopub.execute_input": "2024-02-21T18:33:55.745406Z",
     "iopub.status.busy": "2024-02-21T18:33:55.744959Z",
     "iopub.status.idle": "2024-02-21T18:33:55.776884Z",
     "shell.execute_reply": "2024-02-21T18:33:55.775128Z",
     "shell.execute_reply.started": "2024-02-21T18:33:55.745362Z"
    },
    "id": "uEkQtlSXNctr",
    "outputId": "8055d34c-2541-45e0-f175-6ba5901b974e",
    "tags": []
   },
   "outputs": [],
   "source": [
    "# read each line into a string and storing all lines into a list of strings\n",
    "# readlines() will return all the lines in a file in the format of a list where each element is a line in the file\n",
    "text_data = open(\"lab1_textdata_init.txt\", \"r+\")\n",
    "lines = text_data.readlines()\n",
    "\n",
    "print(\"The output of Readline function is \")\n",
    "print(type(text_data),type(lines))\n",
    "\n",
    "#print the content of lines varible\n",
    "print(lines)\n",
    "\n",
    "\n",
    "#iterate over each line with a for-loop\n",
    "for idx, line in enumerate(lines): # we use enumerate() to get a counter in the loop\n",
    "  print(\"Stripped Line {}: {}\".format(idx +1, line.strip()))"
   ]
  },
  {
   "cell_type": "markdown",
   "metadata": {
    "id": "9e2Qldi5Ac00"
   },
   "source": [
    "##### 1.12 Append new text data into an existing file."
   ]
  },
  {
   "cell_type": "markdown",
   "metadata": {
    "id": "i4R86bTrrEuS"
   },
   "source": [
    "\n",
    "\n",
    "*   add text to the existing text file\n",
    "\n"
   ]
  },
  {
   "cell_type": "code",
   "execution_count": null,
   "metadata": {
    "colab": {
     "base_uri": "https://localhost:8080/",
     "height": 35
    },
    "execution": {
     "iopub.execute_input": "2024-02-21T18:33:55.779271Z",
     "iopub.status.busy": "2024-02-21T18:33:55.778783Z",
     "iopub.status.idle": "2024-02-21T18:33:55.932001Z",
     "shell.execute_reply": "2024-02-21T18:33:55.930347Z",
     "shell.execute_reply.started": "2024-02-21T18:33:55.779223Z"
    },
    "id": "gzigKG6QRzEZ",
    "outputId": "5d781a35-e4a7-4704-9a06-5455bad1d09b",
    "tags": []
   },
   "outputs": [],
   "source": [
    "# save the text file into another file\n",
    "import shutil #shutil module supports operations for files, such as copying and removal\n",
    "\n",
    "# let's make a copy of the initial .txt file\n",
    "# use copyfile(source_file, destination_file) to make a copy of the initial text file\n",
    "\n",
    "shutil.copyfile('lab1_textdata_init.txt','lab1_textdata_extra.txt')"
   ]
  },
  {
   "cell_type": "code",
   "execution_count": null,
   "metadata": {
    "colab": {
     "base_uri": "https://localhost:8080/"
    },
    "deletable": false,
    "execution": {
     "iopub.execute_input": "2024-02-21T18:33:55.934454Z",
     "iopub.status.busy": "2024-02-21T18:33:55.934001Z",
     "iopub.status.idle": "2024-02-21T18:33:55.957524Z",
     "shell.execute_reply": "2024-02-21T18:33:55.955909Z",
     "shell.execute_reply.started": "2024-02-21T18:33:55.934410Z"
    },
    "id": "r4EVgd4LwRP0",
    "nbgrader": {
     "cell_type": "code",
     "checksum": "b85498af90f4011fa063808ded686d3e",
     "grade": true,
     "grade_id": "cell-f5ef56290570e0c7",
     "locked": false,
     "points": 0,
     "schema_version": 3,
     "solution": true,
     "task": false
    },
    "outputId": "e977c90c-1dba-4dae-ad6c-c9876727d671",
    "tags": []
   },
   "outputs": [],
   "source": [
    "# TODO Append new text data at the end of the file\n",
    "\n",
    "# open the file with append and read mode to allow for content to be appended at the end of the file\n",
    "# (1 line of code)\n",
    "# text_data = ...\n",
    "\n",
    "# YOUR CODE HERE\n",
    "raise NotImplementedError()\n",
    "\n",
    "# use write() method to write a specified text to the file\n",
    "\n",
    "text_data.write(\"\\n\")\n",
    "text_data.write(\"This is an extra sentence )(*& for cleaning purposes %^&: here is a toy e-mail for practice exercise: toy_email@gmail.com . pls do not use this email. \\n\")\n",
    "text_data.write(\"NOTE: the above e-mail doesn't exists. \")\n",
    "text_data.close()\n",
    "\n",
    "\n",
    "#read the text file again and check if the sentences were appended succesfully to the file\n",
    "text = open(\"lab1_textdata_extra.txt\", \"r\")\n",
    "lines = text.readlines()\n",
    "print(lines)\n",
    "\n",
    "for idx, line in enumerate(lines):\n",
    "    print(\"Line {}: {}\".format(idx +1, line.strip()))\n"
   ]
  },
  {
   "cell_type": "markdown",
   "metadata": {
    "id": "-m8fG-j5Al28"
   },
   "source": [
    "##### 1.13 Preprocess small chunks of text data using different techniques such as stopwords removal, stemming, and lemmatization."
   ]
  },
  {
   "cell_type": "markdown",
   "metadata": {
    "id": "mA_slv-4sLSq"
   },
   "source": [
    "\n",
    "\n",
    "*   preprocess text data:\n",
    "      - remove stopwords (stopwords are the most commonly occurring words in a text which do not provide any valuable information)\n",
    "      - remove punctuation\n",
    "      - perform lemmatization (lemmatization is a systematic way to reduce the words into their lemma by matching them with a language dictionary; lemma is an actual language word, whereas stem may not be an actual word.)\n",
    "      - perform stemming (stemming is a process to reduce the word to its root stem for example run, running, runs, runed derived from the same word as run)\n",
    "\n",
    "More about text processing techniques:\n",
    "https://www.analyticsvidhya.com/blog/2021/06/must-known-techniques-for-text-preprocessing-in-nlp/\n",
    "\n"
   ]
  },
  {
   "cell_type": "code",
   "execution_count": null,
   "metadata": {
    "colab": {
     "base_uri": "https://localhost:8080/"
    },
    "execution": {
     "iopub.execute_input": "2024-02-21T18:33:55.959665Z",
     "iopub.status.busy": "2024-02-21T18:33:55.959232Z",
     "iopub.status.idle": "2024-02-21T18:33:59.041816Z",
     "shell.execute_reply": "2024-02-21T18:33:59.040027Z",
     "shell.execute_reply.started": "2024-02-21T18:33:55.959622Z"
    },
    "id": "FxqBFg3KWRtL",
    "outputId": "155096fb-2abe-4160-ae43-37b1d9c87027",
    "tags": []
   },
   "outputs": [],
   "source": [
    "import nltk # Natural Language Toolkit library\n",
    "\n",
    "#download modules necessary for text preprocessing, i.e. stopwords, punctuation\n",
    "nltk.download('punkt')\n",
    "nltk.download('stopwords')\n",
    "nltk.download('wordnet')"
   ]
  },
  {
   "cell_type": "code",
   "execution_count": null,
   "metadata": {
    "colab": {
     "base_uri": "https://localhost:8080/"
    },
    "deletable": false,
    "execution": {
     "iopub.execute_input": "2024-02-21T18:33:59.044308Z",
     "iopub.status.busy": "2024-02-21T18:33:59.043759Z",
     "iopub.status.idle": "2024-02-21T18:33:59.097133Z",
     "shell.execute_reply": "2024-02-21T18:33:59.095709Z",
     "shell.execute_reply.started": "2024-02-21T18:33:59.044258Z"
    },
    "id": "mJTbB9rMWPX7",
    "nbgrader": {
     "cell_type": "code",
     "checksum": "eba1621d0af7559987b2f6ffaa10ad67",
     "grade": false,
     "grade_id": "cell-c53a502d433b6d32",
     "locked": false,
     "schema_version": 3,
     "solution": true,
     "task": false
    },
    "outputId": "80cd36e6-25ef-4e47-cae9-dd0e4a69e7fc",
    "tags": []
   },
   "outputs": [],
   "source": [
    "#Tokenize the text with nltk (Natural Language Toolkit library)\n",
    "from nltk.tokenize import word_tokenize\n",
    "\n",
    "# We use the word_tokenize(text) function to  divide the text  into lists of words by splitting the text based on whitespace and punctuation\n",
    "# https://www.nltk.org/api/nltk.tokenize.html\n",
    "\n",
    "\n",
    "# TODO: Apply word tokenization on the first line of the text file and print the tokenization output\n",
    "# (2 lines of code)\n",
    "# fl_word_tokens = ...\n",
    "# print( ... )\n",
    "# YOUR CODE HERE\n",
    "raise NotImplementedError()\n",
    "\n",
    "# check the difference with split() method that splits a string into a list.\n",
    "# You can specify the separator, default separator is any whitespace.\n",
    "print('\\n\\n')\n",
    "print(\"first line splitted: \", lines[0].strip().split(\" \"))"
   ]
  },
  {
   "cell_type": "code",
   "execution_count": null,
   "metadata": {
    "deletable": false,
    "execution": {
     "iopub.execute_input": "2024-02-21T18:33:59.098795Z",
     "iopub.status.busy": "2024-02-21T18:33:59.098445Z",
     "iopub.status.idle": "2024-02-21T18:33:59.259864Z",
     "shell.execute_reply": "2024-02-21T18:33:59.258112Z",
     "shell.execute_reply.started": "2024-02-21T18:33:59.098761Z"
    },
    "nbgrader": {
     "cell_type": "code",
     "checksum": "babe70ec24852ef2a24d916087128676",
     "grade": false,
     "grade_id": "cell-61a65a7f891f0774",
     "locked": false,
     "schema_version": 3,
     "solution": true,
     "task": false
    },
    "tags": []
   },
   "outputs": [],
   "source": [
    "# Remove stopwords with nltk (Natural Language Toolkit library)\n",
    "\n",
    "from nltk.corpus import stopwords\n",
    "# stopwords.words('english')\n",
    "# get the set of English stopwords\n",
    "stop_words = set(stopwords.words('english'))\n",
    "print(\"set of stopwords: \", stop_words)\n",
    "\n",
    "#TODO: After tokenization, remove the stopwords from the first line of the text file\n",
    "# create an empty list to save the words that are NOT stopwords\n",
    "# (1 line of code)\n",
    "# fl_no_stopwords = ...\n",
    "# YOUR CODE HERE\n",
    "raise NotImplementedError()\n",
    "\n",
    "\n",
    "# create a for-loop to iterate over every words in fl_word_tokens (1 line of code)\n",
    "# check stopword condition with if-statement: (1 line of code)\n",
    "# if the word from fl_word_tokens is not a stopword, append it to the list fl_no_stopwords (1 line of code)\n",
    "# otherwise do nothing and move to the next word\n",
    "# NOTE: call lower() on each word to convert the string to lower case since the set of stopwords are all in lowercase\n",
    "\n",
    "\n",
    "# YOUR CODE HERE\n",
    "raise NotImplementedError()\n",
    "print('\\n\\n')\n",
    "print(\"filtered first line (list of words): \", fl_no_stopwords)\n",
    "\n",
    "# now the first line is split into a list of words and had the stopwords remove\n",
    "# we can put all the words back into one string using join()\n",
    "print('\\n\\n')\n",
    "print(\"filtered first line (all words in one string): \", \" \".join(fl_no_stopwords))\n",
    "\n"
   ]
  },
  {
   "cell_type": "code",
   "execution_count": null,
   "metadata": {
    "colab": {
     "base_uri": "https://localhost:8080/"
    },
    "deletable": false,
    "execution": {
     "iopub.execute_input": "2024-02-21T18:33:59.262599Z",
     "iopub.status.busy": "2024-02-21T18:33:59.262037Z",
     "iopub.status.idle": "2024-02-21T18:34:01.591706Z",
     "shell.execute_reply": "2024-02-21T18:34:01.590477Z",
     "shell.execute_reply.started": "2024-02-21T18:33:59.262545Z"
    },
    "id": "i_Mlu6bcpgeN",
    "nbgrader": {
     "cell_type": "code",
     "checksum": "0b55653d5841147a28775bf4a30c055d",
     "grade": false,
     "grade_id": "cell-d645f257c83ae717",
     "locked": false,
     "schema_version": 3,
     "solution": true,
     "task": false
    },
    "outputId": "fb85d640-e797-4bce-e6bb-f3040e479797",
    "tags": []
   },
   "outputs": [],
   "source": [
    "## Doing lemmatization\n",
    "# import these modules for lemmatization\n",
    "from nltk.stem import WordNetLemmatizer\n",
    "\n",
    "lemmatizer = WordNetLemmatizer() #an instance of WordNet Lemmatizer\n",
    "\n",
    "print(\"Performing lemmatization on a single word\") #use lemmatize() method of lemmatizer ojbect\n",
    "single_word = \"studies\"\n",
    "print(\" Lemma for {} is {}.\".format(single_word, lemmatizer.lemmatize(single_word)))\n",
    "\n",
    "print(\"\\n\")\n",
    "#TODO: perform lemmatization on all words in fl_no_stopwords using a for-loop (1 line of code)\n",
    "#      convert the words to lower case and check using isalpha() method if all the characters of the word are alphabet letters (1 line of code)\n",
    "#      if the above condition is True, print the lemma of the word (1 line of code), otherwise do nothing\n",
    "\n",
    "# YOUR CODE HERE\n",
    "raise NotImplementedError()"
   ]
  },
  {
   "cell_type": "code",
   "execution_count": null,
   "metadata": {
    "colab": {
     "base_uri": "https://localhost:8080/"
    },
    "deletable": false,
    "execution": {
     "iopub.execute_input": "2024-02-21T18:34:01.593094Z",
     "iopub.status.busy": "2024-02-21T18:34:01.592832Z",
     "iopub.status.idle": "2024-02-21T18:34:01.601781Z",
     "shell.execute_reply": "2024-02-21T18:34:01.600631Z",
     "shell.execute_reply.started": "2024-02-21T18:34:01.593068Z"
    },
    "id": "Lcr7x2jDwXkM",
    "nbgrader": {
     "cell_type": "code",
     "checksum": "541495811b0ed2e7af51abe6089576b9",
     "grade": false,
     "grade_id": "cell-8d1f8f3311e8a7ac",
     "locked": false,
     "schema_version": 3,
     "solution": true,
     "task": false
    },
    "outputId": "55b16219-9510-4715-8a9e-af91e9c85674",
    "tags": []
   },
   "outputs": [],
   "source": [
    "# Remove stopwords with nltk (Natural Language Toolkit library)\n",
    "\n",
    "from nltk.corpus import stopwords\n",
    "# stopwords.words('english')\n",
    "# get the set of English stopwords\n",
    "stop_words = set(stopwords.words('english'))\n",
    "print(\"set of stopwords: \", stop_words)\n",
    "\n",
    "#TODO: After tokenization, remove the stopwords from the first line of the text file\n",
    "# create an empty list to save the words that are NOT stopwords\n",
    "# (1 line of code)\n",
    "# fl_no_stopwords = ...\n",
    "# YOUR CODE HERE\n",
    "raise NotImplementedError()\n",
    "\n",
    "\n",
    "# TODO: create a for-loop to iterate over every words in fl_word_tokens (1 line of code)\n",
    "# check stopword condition with if-statement: (1 line of code)\n",
    "# if the word from fl_word_tokens is not a stopword, append it to the list fl_no_stopwords (1 line of code)\n",
    "# otherwise do nothing and move to the next word\n",
    "# NOTE: call lower() on each word to convert the string to lower case since the set of stopwords are all in lowercase\n",
    "\n",
    "\n",
    "# YOUR CODE HERE\n",
    "raise NotImplementedError()\n",
    "print('\\n\\n')\n",
    "print(\"filtered first line (list of words): \", fl_no_stopwords)\n",
    "\n",
    "# now the first line is split into a list of words and had the stopwords remove\n",
    "# we can put all the words back into one string using join()\n",
    "print('\\n\\n')\n",
    "print(\"filtered first line (all words in one string): \", \" \".join(fl_no_stopwords))\n",
    "\n"
   ]
  },
  {
   "cell_type": "markdown",
   "metadata": {
    "id": "zMfKY4-AsbsV"
   },
   "source": [
    "\n",
    "\n",
    "*   write a function *preprocess_text(text)* that applies the above operations sequentially to string\n",
    "*   apply the *preprocess_text()* to each line in the .txt file\n",
    "*   in addition, apply word substitution to further clean up the text.  For the word substitution, add the following substitution rules: substitute “e - mail” with “email”, “pls” with “please”.\n",
    "*   analyze the effect of preprocessing on the semantic of text: what do you observe?\n",
    "\n"
   ]
  },
  {
   "cell_type": "code",
   "execution_count": null,
   "metadata": {
    "colab": {
     "base_uri": "https://localhost:8080/"
    },
    "deletable": false,
    "execution": {
     "iopub.execute_input": "2024-02-21T18:34:01.603249Z",
     "iopub.status.busy": "2024-02-21T18:34:01.602857Z",
     "iopub.status.idle": "2024-02-21T18:34:01.697070Z",
     "shell.execute_reply": "2024-02-21T18:34:01.695255Z",
     "shell.execute_reply.started": "2024-02-21T18:34:01.603208Z"
    },
    "id": "apW8nJ_Zb-ir",
    "nbgrader": {
     "cell_type": "code",
     "checksum": "f2b6ff3b6a2d2af5fcb6a93f7e36dcf0",
     "grade": false,
     "grade_id": "cell-1a83405974ae5670",
     "locked": false,
     "schema_version": 3,
     "solution": true,
     "task": false
    },
    "outputId": "a1a17582-b2f2-4f0c-a52e-906ec10687ac",
    "tags": []
   },
   "outputs": [],
   "source": [
    "## Doing Stemming\n",
    "# import these modules\n",
    "from nltk.stem import PorterStemmer\n",
    "from nltk.stem import SnowballStemmer\n",
    "\n",
    "from nltk.tokenize import word_tokenize\n",
    "\n",
    "stemmer = PorterStemmer() #an instance of PorterStemmer stemmer\n",
    "\n",
    "print(\"Performing stemming on a single word\") #use stem() method of stemmer ojbect\n",
    "single_word = \"studies\"\n",
    "print(\" Stemming for {} is {}.\".format(single_word, stemmer.stem(single_word)))\n",
    "\n",
    "print(\"\\n\")\n",
    "#TODO: perform stemming on all words in fl_no_stopwords using a for-loop (1 line of code)\n",
    "#      convert the words to lower case and check using isalpha() method if all the characters of the word are alphabet letters (1 line of code)\n",
    "#      if the above condition is True, print the stem on the word (1 line of code), otherwise do nothing\n",
    "\n",
    "# YOUR CODE HERE\n",
    "raise NotImplementedError()"
   ]
  },
  {
   "cell_type": "markdown",
   "metadata": {
    "id": "vgDDkM9BBFX9"
   },
   "source": [
    "##### 1.14 Generate a visual representation of words that accounts for their frequency in the text."
   ]
  },
  {
   "cell_type": "code",
   "execution_count": null,
   "metadata": {
    "colab": {
     "base_uri": "https://localhost:8080/"
    },
    "deletable": false,
    "execution": {
     "iopub.execute_input": "2024-02-21T18:34:01.699510Z",
     "iopub.status.busy": "2024-02-21T18:34:01.699056Z",
     "iopub.status.idle": "2024-02-21T18:34:01.851239Z",
     "shell.execute_reply": "2024-02-21T18:34:01.849626Z",
     "shell.execute_reply.started": "2024-02-21T18:34:01.699468Z"
    },
    "id": "6oGQtoWZySUU",
    "nbgrader": {
     "cell_type": "code",
     "checksum": "fd847f28b95a19700db677a2cbcd36ec",
     "grade": false,
     "grade_id": "cell-9833ef527d595d40",
     "locked": false,
     "schema_version": 3,
     "solution": true,
     "task": false
    },
    "outputId": "f596e117-3efb-496a-8bc3-42443a764815",
    "tags": []
   },
   "outputs": [],
   "source": [
    "### write a function to prreprocess text (i.e. a string of multiple words)\n",
    "### that includes the text preprocessing techniques seen above\n",
    "\n",
    "import string   # contains some constants, utility function,\n",
    "                # and classes for string manipulation.\n",
    "\n",
    "import re       # provides regular expression support\n",
    "                # i.e. The re.sub(pat, replacement, str) function searches for\n",
    "                # all the instances of pattern in the given string, and replaces them.\n",
    "                # https://developers.google.com/edu/python/regular-expressions\n",
    "\n",
    "def preprocess_text(text):\n",
    "    \"\"\"\n",
    "      Perform preprocessing and cleaning on a string containing multiple words (i.e. sentences)\n",
    "\n",
    "      Arguments:\n",
    "        text: string\n",
    "    \"\"\"\n",
    "\n",
    "    ## Remove newline character\n",
    "    text = text.strip(\"\\n\")\n",
    "\n",
    "\n",
    "\n",
    "    # TODO: Convert words of a string to lower case and split the string based on whitespaces\n",
    "    #  use lower() and split()\n",
    "    #  (1 line of code)\n",
    "    # text = ...\n",
    "    # YOUR CODE HERE\n",
    "    raise NotImplementedError()\n",
    "\n",
    "    ## Remove stop words and also remove the words with less than 3 characters\n",
    "    stops = set(stopwords.words(\"english\"))\n",
    "\n",
    "    # create an empty list to save the words\n",
    "    tmp = []\n",
    "    # TODO: iterate  over every word  (1 line of code)\n",
    "    # check if the word is not a stopwords and that has more than 3 characters (1 line of code)\n",
    "    # if condition is True, append the word to tmp (1 line of code)\n",
    "\n",
    "    # YOUR CODE HERE\n",
    "    raise NotImplementedError()\n",
    "\n",
    "    text = tmp\n",
    "\n",
    "    # # put the words back into a string\n",
    "    text = \" \".join(text)\n",
    "\n",
    "    ## Write substituton rules\n",
    "\n",
    "    #Here is a regular expression to substitute a string of characters that are not a letters or numbers\n",
    "    text = re.sub(r\"[^A-Za-z0-9^,!.\\/'+-=]\", \" \", text)\n",
    "\n",
    "\n",
    "    # TODO write the substituion rule: \"e - mail\" -> \"email\"\n",
    "    # (1 line of code)\n",
    "    # text = ...\n",
    "    # YOUR CODE HERE\n",
    "    raise NotImplementedError()\n",
    "\n",
    "    # TODO write the substituion rule: \"pls\" -> \"please\"\n",
    "    # (1 line of code)\n",
    "    # text = ...\n",
    "    # YOUR CODE HERE\n",
    "    raise NotImplementedError()\n",
    "\n",
    "    # Perform stemming\n",
    "    # split the text\n",
    "    text = text.split()\n",
    "\n",
    "    # define the stemmer\n",
    "    stemmer = PorterStemmer()\n",
    "    # create an empty list to save the stemmed words\n",
    "    stemmed_words = []\n",
    "\n",
    "    # TODO: perform stemming on each word using a for loop and append the stems to stemmed_words\n",
    "    # (2 lines of code)\n",
    "    # YOUR CODE HERE\n",
    "    raise NotImplementedError()\n",
    "\n",
    "    text = \" \".join(stemmed_words)\n",
    "    return text\n",
    "\n",
    "\n",
    "# reading the entire text as one string:\n",
    "text_data = open(\"lab1_textdata_extra.txt\", \"r+\")\n",
    "lines = text_data.read()\n",
    "print(\"noisy text as one string:\\n\", lines)\n",
    "print()\n",
    "print(\"cleaned text as one string:\\n \", preprocess_text(lines))\n"
   ]
  },
  {
   "cell_type": "markdown",
   "metadata": {
    "id": "PBBwGvF3u9gi"
   },
   "source": [
    "\n",
    "\n",
    "*   you can also create cool visualizations for your text data using word clouds\n",
    "\n"
   ]
  },
  {
   "cell_type": "code",
   "execution_count": null,
   "metadata": {
    "execution": {
     "iopub.execute_input": "2024-02-21T18:34:01.853294Z",
     "iopub.status.busy": "2024-02-21T18:34:01.852992Z",
     "iopub.status.idle": "2024-02-21T18:34:01.906041Z",
     "shell.execute_reply": "2024-02-21T18:34:01.903764Z",
     "shell.execute_reply.started": "2024-02-21T18:34:01.853252Z"
    },
    "id": "P9HnQc3svPKu"
   },
   "outputs": [],
   "source": [
    "#just in case the library is not installed uncommnet and run the following line\n",
    "# !pip install wordcloud\n"
   ]
  },
  {
   "cell_type": "code",
   "execution_count": null,
   "metadata": {
    "colab": {
     "base_uri": "https://localhost:8080/",
     "height": 517
    },
    "execution": {
     "iopub.execute_input": "2024-02-21T18:34:01.908901Z",
     "iopub.status.busy": "2024-02-21T18:34:01.908410Z",
     "iopub.status.idle": "2024-02-21T18:34:02.443232Z",
     "shell.execute_reply": "2024-02-21T18:34:02.441722Z",
     "shell.execute_reply.started": "2024-02-21T18:34:01.908853Z"
    },
    "id": "kE-e5OsJvGaZ",
    "outputId": "7f4f533a-50f6-4697-90fa-220e6899f56a",
    "tags": []
   },
   "outputs": [],
   "source": [
    "# you can also create cool visualizations for your text data using word clouds\n",
    "\n",
    "from os import read\n",
    "from wordcloud import WordCloud\n",
    "import matplotlib.pyplot as plt\n",
    "\n",
    "text_data = open(\"lab1_textdata_init.txt\", \"r+\")\n",
    "lines = text_data.read()\n",
    "\n",
    "wordcloud = WordCloud(width = 500, height = 300,\n",
    "                background_color ='white',\n",
    "                min_font_size = 10).generate(lines)\n",
    "\n",
    "# plot the WordCloud image\n",
    "plt.figure(figsize = (8, 6), facecolor = None)\n",
    "plt.imshow(wordcloud)\n",
    "plt.axis(\"off\")\n",
    "plt.tight_layout(pad = 0)\n",
    "\n",
    "plt.show()"
   ]
  },
  {
   "cell_type": "markdown",
   "metadata": {
    "id": "j7s1jT6kQa5a"
   },
   "source": [
    "### Additional exercises"
   ]
  },
  {
   "cell_type": "markdown",
   "metadata": {},
   "source": [
    "##### 1.15 Implement a class of (a skip-connection) network of a specified architecture, analyse the number of parameters, modify a layer without modifying the class code, save the weights and compute the file size."
   ]
  },
  {
   "cell_type": "markdown",
   "metadata": {
    "id": "wUOql91AQhgl"
   },
   "source": [
    "**TODO:** Create a neural network class with 3 hidden layers and a skip connection between first and second hidden layer.\n",
    "\n",
    "Each layer should be a class variable (they are called instance variables in Python) l{i}, where i is the number of a layer. First two layers should be a sequential of a Linear Layer and a ReLU function. The last layer should be a Linear layer only. Additionaly the variable softmax stores the nn.Softmax() function.\n",
    "\n",
    "\n",
    "A number of input channels, a number of output channels and number of channels in the second dimension should be specified as initialisation parameters in_channels, out_channels, and hidden_channels correspondingly.\n",
    "\n",
    "\n"
   ]
  },
  {
   "cell_type": "code",
   "execution_count": null,
   "metadata": {
    "colab": {
     "base_uri": "https://localhost:8080/"
    },
    "deletable": false,
    "execution": {
     "iopub.execute_input": "2024-02-21T18:34:02.445389Z",
     "iopub.status.busy": "2024-02-21T18:34:02.444958Z",
     "iopub.status.idle": "2024-02-21T18:34:02.481947Z",
     "shell.execute_reply": "2024-02-21T18:34:02.480669Z",
     "shell.execute_reply.started": "2024-02-21T18:34:02.445347Z"
    },
    "id": "Mwq3clmhZuHZ",
    "nbgrader": {
     "cell_type": "code",
     "checksum": "70f0d041b0b88f28cef1b7e0a3ea02a2",
     "grade": false,
     "grade_id": "cell-71b19bb9ec7fe174",
     "locked": false,
     "schema_version": 3,
     "solution": true,
     "task": false
    },
    "outputId": "3142a4b3-f80e-4494-94e6-881d880c8464",
    "tags": []
   },
   "outputs": [],
   "source": [
    "#TODO: Create a model with 3 hidden layers and a skip connection between first and second hidden layer\n",
    "# hidden dimension should be passed as a parameter to a neural network\n",
    "# report the number of hidden parameters, disable the bias for the last layer\n",
    "\n",
    "class NNSkip(nn.Module):\n",
    "    def __init__(self, in_channels, out_channels, hidden_channels):\n",
    "        super().__init__()\n",
    "        #TODO: fill in the gaps for layer 1\n",
    "        self.l1 = nn.Sequential(\n",
    "            # YOUR CODE HERE\n",
    "            raise NotImplementedError()\n",
    "            )\n",
    "        #TODO: define layer 2 and 3\n",
    "        # YOUR CODE HERE\n",
    "        raise NotImplementedError()\n",
    "\n",
    "        self.softmax = nn.Softmax(dim=1)\n",
    "\n",
    "    def forward(self, x):\n",
    "        out = 0\n",
    "        #TODO: implement the forward pass with a skip connection\n",
    "        # return the output out\n",
    "        # YOUR CODE HERE\n",
    "        raise NotImplementedError()\n",
    "\n",
    "        return out\n",
    "\n",
    "hidden_channels = 16\n",
    "model = NNSkip(number_of_input_channels, 2, hidden_channels)\n",
    "model.load_state_dict(torch.load('lab1_model_with_skip_connection_weights.pth'))\n",
    "#if the model is constructed incorrectly you will get an error with weights loading\n",
    "\n",
    "\n",
    "out_probs = model(x)\n",
    "predictions = out_probs.argmax(axis=1)\n",
    "print('outputted predictions:\\n', predictions)\n",
    "\n",
    "print('target:\\n', y.to(torch.long))\n",
    "\n",
    "assert np.all(predictions.numpy() == y.to(torch.long).numpy()) #this model was trained to output correct answer for all 20 test samples\n",
    "\n",
    "\n",
    "print('\\n\\n', 'model')\n",
    "model\n"
   ]
  },
  {
   "cell_type": "markdown",
   "metadata": {
    "id": "6y5oUivLkAo8"
   },
   "source": [
    "**TODO:** Change the activation function for the first layer from ReLU to Sigmoid by operating only with existing object 'model'. Do not change the class code, do not create a new class. Change only one layer"
   ]
  },
  {
   "cell_type": "code",
   "execution_count": null,
   "metadata": {
    "colab": {
     "base_uri": "https://localhost:8080/"
    },
    "deletable": false,
    "execution": {
     "iopub.execute_input": "2024-02-21T18:34:02.483328Z",
     "iopub.status.busy": "2024-02-21T18:34:02.482990Z",
     "iopub.status.idle": "2024-02-21T18:34:02.508493Z",
     "shell.execute_reply": "2024-02-21T18:34:02.506935Z",
     "shell.execute_reply.started": "2024-02-21T18:34:02.483301Z"
    },
    "id": "XdSvtm3_ZuHa",
    "nbgrader": {
     "cell_type": "code",
     "checksum": "f0e2ec5fa99288627f714af2d7527dde",
     "grade": false,
     "grade_id": "cell-35eed60b69f12620",
     "locked": false,
     "schema_version": 3,
     "solution": true,
     "task": false
    },
    "outputId": "5f7d8dc8-559b-4379-a5e1-f202aa92b33d",
    "tags": []
   },
   "outputs": [],
   "source": [
    "\n",
    "#TODO: in model, change the activation function for the first layer to Sigmoid\n",
    "#add 1 line\n",
    "# YOUR CODE HERE\n",
    "raise NotImplementedError()\n",
    "\n",
    "out_probs = model(x)\n",
    "predictions = out_probs.argmax(axis=1)\n",
    "print('outputted predictions:\\n', predictions)\n",
    "\n",
    "print('\\n\\n', 'model')\n",
    "model"
   ]
  },
  {
   "cell_type": "code",
   "execution_count": null,
   "metadata": {
    "deletable": false,
    "editable": false,
    "execution": {
     "iopub.execute_input": "2024-02-21T18:34:02.510473Z",
     "iopub.status.busy": "2024-02-21T18:34:02.510024Z",
     "iopub.status.idle": "2024-02-21T18:34:02.551374Z",
     "shell.execute_reply": "2024-02-21T18:34:02.549994Z",
     "shell.execute_reply.started": "2024-02-21T18:34:02.510412Z"
    },
    "id": "wX7szluhmgBW",
    "nbgrader": {
     "cell_type": "code",
     "checksum": "56e6572715fb51b7d8e627fda8b1c809",
     "grade": true,
     "grade_id": "cell-a68310e5de3276aa",
     "locked": true,
     "points": 0,
     "schema_version": 3,
     "solution": false,
     "task": false
    },
    "tags": []
   },
   "outputs": [],
   "source": [
    "#hidden tests to check your solution are here\n",
    "\n",
    "assert np.all(model(x).argmax(axis=1).detach().numpy() == np.array([0, 0, 0, 0, 0, 0, 0, 1, 0, 0, 0, 0, 1, 0, 0, 0, 0, 0, 0, 0]))"
   ]
  },
  {
   "cell_type": "code",
   "execution_count": null,
   "metadata": {
    "colab": {
     "base_uri": "https://localhost:8080/"
    },
    "execution": {
     "iopub.execute_input": "2024-02-21T18:34:02.552728Z",
     "iopub.status.busy": "2024-02-21T18:34:02.552463Z",
     "iopub.status.idle": "2024-02-21T18:34:02.599010Z",
     "shell.execute_reply": "2024-02-21T18:34:02.597789Z",
     "shell.execute_reply.started": "2024-02-21T18:34:02.552701Z"
    },
    "id": "U1JMItGsZuHa",
    "outputId": "d0e5268c-1ddc-4fe1-eabb-ba96e7c0d603"
   },
   "outputs": [],
   "source": [
    "print( model.parameters() )\n",
    "summary(model, (10, 2))\n",
    "for parameter in model.parameters():\n",
    "    print(parameter)\n",
    "\n",
    "def count_parameters(model):\n",
    "    return sum(p.numel() for p in model.parameters() if p.requires_grad)\n",
    "\n",
    "print(count_parameters(model))\n"
   ]
  },
  {
   "cell_type": "markdown",
   "metadata": {
    "id": "xHKNES9QoMAu"
   },
   "source": [
    "**TODO:** save the model weights as 'model.pth' file and count the file size in bytes"
   ]
  },
  {
   "cell_type": "code",
   "execution_count": null,
   "metadata": {
    "colab": {
     "base_uri": "https://localhost:8080/"
    },
    "deletable": false,
    "execution": {
     "iopub.execute_input": "2024-02-21T18:34:02.600564Z",
     "iopub.status.busy": "2024-02-21T18:34:02.600113Z",
     "iopub.status.idle": "2024-02-21T18:34:02.682418Z",
     "shell.execute_reply": "2024-02-21T18:34:02.680791Z",
     "shell.execute_reply.started": "2024-02-21T18:34:02.600491Z"
    },
    "id": "vxZEs78yZuHb",
    "nbgrader": {
     "cell_type": "code",
     "checksum": "90fdd6ab60b74a0062330a643380b8ee",
     "grade": false,
     "grade_id": "cell-d35e0ce5b96ff2ba",
     "locked": false,
     "schema_version": 3,
     "solution": true,
     "task": false
    },
    "outputId": "dc4e03a3-d564-4bbb-cca3-1cd89f82ab88",
    "tags": []
   },
   "outputs": [],
   "source": [
    "# TODO save the model weight and output the file size\n",
    "# save the model weights to model.pth file\n",
    "# 1 line of code\n",
    "# YOUR CODE HERE\n",
    "raise NotImplementedError()\n",
    "\n",
    "assert model.load_state_dict(torch.load('model.pth'))\n",
    "\n",
    "\n",
    "#measure filesize in bytes\n",
    "#initialise variable filesize\n",
    "filesize = ...\n",
    "# YOUR CODE HERE\n",
    "raise NotImplementedError()\n",
    "print('file size in bytes is', filesize)\n"
   ]
  }
 ],
 "metadata": {
  "colab": {
   "collapsed_sections": [
    "IOGqKZor1GKT",
    "2Lhr4o-K2bBP",
    "S_gsKPzp2-E7",
    "TS7VEVfM4HJH"
   ],
   "provenance": [],
   "toc_visible": true
  },
  "kernelspec": {
   "display_name": "dlenv",
   "language": "python",
   "name": "python3"
  },
  "language_info": {
   "codemirror_mode": {
    "name": "ipython",
    "version": 3
   },
   "file_extension": ".py",
   "mimetype": "text/x-python",
   "name": "python",
   "nbconvert_exporter": "python",
   "pygments_lexer": "ipython3",
   "version": "3.10.12"
  },
  "toc-autonumbering": false,
  "toc-showcode": false,
  "toc-showmarkdowntxt": false
 },
 "nbformat": 4,
 "nbformat_minor": 4
}
